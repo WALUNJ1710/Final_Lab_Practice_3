{
 "cells": [
  {
   "cell_type": "code",
   "execution_count": 11,
   "id": "24d2e525",
   "metadata": {},
   "outputs": [
    {
     "name": "stdout",
     "output_type": "stream",
     "text": [
      "Maximum Value: 220\n",
      "Selected Items: [1, 2]\n",
      "\n",
      "Execution time is: 0.0ms\n"
     ]
    }
   ],
   "source": [
    "import time\n",
    "start = time.time()\n",
    "\n",
    "def knapsack_dynamic_programming(values, weights, capacity):\n",
    "    n = len(values)\n",
    "    \n",
    "    # Create a table to store the maximum values for different capacities\n",
    "    dp = [[0] * (capacity + 1) for _ in range(n + 1)]\n",
    "    \n",
    "    # Fill the table using dynamic programming\n",
    "    for i in range(n + 1):\n",
    "        for w in range(capacity + 1):\n",
    "            if i == 0 or w == 0:\n",
    "                dp[i][w] = 0\n",
    "            elif weights[i - 1] <= w:\n",
    "                dp[i][w] = max(values[i - 1] + dp[i - 1][w - weights[i - 1]], dp[i - 1][w])\n",
    "            else:\n",
    "                dp[i][w] = dp[i - 1][w]\n",
    "    \n",
    "    # Backtrack to find the items included in the knapsack\n",
    "    items = []\n",
    "    i, j = n, capacity\n",
    "    while i > 0 and j > 0:\n",
    "        if dp[i][j] != dp[i - 1][j]:\n",
    "            items.append(i - 1)\n",
    "            j -= weights[i - 1]\n",
    "        i -= 1\n",
    "    \n",
    "    items.reverse()\n",
    "    return dp[n][capacity], items\n",
    "\n",
    "# Example usage\n",
    "values = [60, 100, 120]\n",
    "weights = [10, 20, 30]\n",
    "capacity = 50\n",
    "max_value, selected_items = knapsack_dynamic_programming(values, weights, capacity)\n",
    "print(\"Maximum Value: {}\".format(max_value))\n",
    "print(\"Selected Items: {}\".format(selected_items))\n",
    "\n",
    "end = time.time()\n",
    "print(\"\\nExecution time is: {}ms\".format((end-start)*10**3))"
   ]
  }
 ],
 "metadata": {
  "kernelspec": {
   "display_name": "Python 3 (ipykernel)",
   "language": "python",
   "name": "python3"
  },
  "language_info": {
   "codemirror_mode": {
    "name": "ipython",
    "version": 3
   },
   "file_extension": ".py",
   "mimetype": "text/x-python",
   "name": "python",
   "nbconvert_exporter": "python",
   "pygments_lexer": "ipython3",
   "version": "3.10.9"
  }
 },
 "nbformat": 4,
 "nbformat_minor": 5
}
