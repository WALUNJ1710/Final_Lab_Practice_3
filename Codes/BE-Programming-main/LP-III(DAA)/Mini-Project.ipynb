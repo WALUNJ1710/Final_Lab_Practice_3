{
 "cells": [
  {
   "cell_type": "markdown",
   "id": "371f7f45",
   "metadata": {},
   "source": [
    "Implement merge sort and multithreaded merge sort. Compare time required \n",
    "by both the algorithms. Also analyze the performance of each algorithm for the best case and \n",
    "the worst case."
   ]
  },
  {
   "cell_type": "markdown",
   "id": "a5950194",
   "metadata": {},
   "source": [
    "## Merge Sort"
   ]
  },
  {
   "cell_type": "code",
   "execution_count": 1,
   "id": "c8b6c734",
   "metadata": {},
   "outputs": [
    {
     "name": "stdout",
     "output_type": "stream",
     "text": [
      "Time taken for standard merge sort: 0.005004405975341797 seconds\n"
     ]
    }
   ],
   "source": [
    "def merge_sort(arr):\n",
    "    if len(arr) <= 1:\n",
    "        return arr\n",
    "\n",
    "    mid = len(arr) // 2\n",
    "    left = arr[:mid]\n",
    "    right = arr[mid:]\n",
    "\n",
    "    left = merge_sort(left)\n",
    "    right = merge_sort(right)\n",
    "\n",
    "    return merge(left, right)\n",
    "\n",
    "def merge(left, right):\n",
    "    result = []\n",
    "    i = j = 0\n",
    "\n",
    "    while i < len(left) and j < len(right):\n",
    "        if left[i] < right[j]:\n",
    "            result.append(left[i])\n",
    "            i += 1\n",
    "        else:\n",
    "            result.append(right[j])\n",
    "            j += 1\n",
    "\n",
    "    result.extend(left[i:])\n",
    "    result.extend(right[j:])\n",
    "    return result\n",
    "\n",
    "import random\n",
    "import time\n",
    "\n",
    "# Test standard merge sort\n",
    "arr = [random.randint(1, 1000) for _ in range(1000)]\n",
    "start_time = time.time()\n",
    "sorted_arr = merge_sort(arr)\n",
    "end_time = time.time()\n",
    "print(f\"Time taken for standard merge sort: {end_time - start_time} seconds\")"
   ]
  },
  {
   "cell_type": "markdown",
   "id": "2de764b0",
   "metadata": {},
   "source": [
    "## Multi-threaded Merge Sort"
   ]
  },
  {
   "cell_type": "code",
   "execution_count": 3,
   "id": "c24f3cf2",
   "metadata": {},
   "outputs": [
    {
     "name": "stdout",
     "output_type": "stream",
     "text": [
      "Time taken for multithreaded merge sort: 0.00600433349609375 seconds\n"
     ]
    }
   ],
   "source": [
    "import threading\n",
    "from queue import Queue\n",
    "\n",
    "def parallel_merge_sort(arr, threads=4, result_queue=None):\n",
    "    if result_queue is None:\n",
    "        result_queue = Queue()\n",
    "\n",
    "    if len(arr) <= 1:\n",
    "        result_queue.put(arr)\n",
    "        return\n",
    "\n",
    "    if threads <= 1 or len(arr) <= 100:\n",
    "        result_queue.put(merge_sort(arr))\n",
    "        return\n",
    "\n",
    "    mid = len(arr) // 2\n",
    "    left = arr[:mid]\n",
    "    right = arr[mid:]\n",
    "\n",
    "    left_thread = threading.Thread(target=parallel_merge_sort, args=(left, threads // 2, result_queue))\n",
    "    right_thread = threading.Thread(target=parallel_merge_sort, args=(right, threads // 2, result_queue))\n",
    "\n",
    "    left_thread.start()\n",
    "    right_thread.start()\n",
    "\n",
    "    left_thread.join()\n",
    "    right_thread.join()\n",
    "\n",
    "    left = result_queue.get()\n",
    "    right = result_queue.get()\n",
    "\n",
    "    result_queue.put(merge(left, right))\n",
    "\n",
    "# Test multithreaded merge sort\n",
    "start_time = time.time()\n",
    "result_queue = Queue()\n",
    "parallel_merge_sort(arr, result_queue=result_queue)\n",
    "sorted_arr = result_queue.get()\n",
    "end_time = time.time()\n",
    "print(f\"Time taken for multithreaded merge sort: {end_time - start_time} seconds\")"
   ]
  }
 ],
 "metadata": {
  "kernelspec": {
   "display_name": "Python 3 (ipykernel)",
   "language": "python",
   "name": "python3"
  },
  "language_info": {
   "codemirror_mode": {
    "name": "ipython",
    "version": 3
   },
   "file_extension": ".py",
   "mimetype": "text/x-python",
   "name": "python",
   "nbconvert_exporter": "python",
   "pygments_lexer": "ipython3",
   "version": "3.10.9"
  }
 },
 "nbformat": 4,
 "nbformat_minor": 5
}
