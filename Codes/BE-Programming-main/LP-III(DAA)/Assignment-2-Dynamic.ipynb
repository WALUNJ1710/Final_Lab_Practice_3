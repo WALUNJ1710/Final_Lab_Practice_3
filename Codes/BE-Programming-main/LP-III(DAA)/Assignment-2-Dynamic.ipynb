{
 "cells": [
  {
   "cell_type": "markdown",
   "id": "263010f5",
   "metadata": {},
   "source": [
    "### Note:\n",
    "The execution time is calculated once the program execution starts and recorded at the end of program. This execution time is not to display the execution of the Huffman Algorithm, rather it shows execution time of whole program. </br>\n",
    "If you took too long to enter the input the execution time will be drastically larger number."
   ]
  },
  {
   "cell_type": "code",
   "execution_count": 1,
   "id": "d0927376",
   "metadata": {},
   "outputs": [
    {
     "name": "stdout",
     "output_type": "stream",
     "text": [
      "Enter data to encode: hello\n",
      "Original data: hello\n",
      "\n",
      "Encoded data: 1001111100\n",
      "\n",
      "Decoded data: hello\n",
      "\n",
      "Execution time is: 1769.1242694854736ms\n"
     ]
    }
   ],
   "source": [
    "import heapq\n",
    "from collections import defaultdict, Counter\n",
    "import time\n",
    "\n",
    "start = time.time()\n",
    "\n",
    "class HuffmanNode:\n",
    "    def __init__(self, char, freq):\n",
    "        self.char = char\n",
    "        self.freq = freq\n",
    "        self.left = None\n",
    "        self.right = None\n",
    "\n",
    "    def __lt__(self, other):\n",
    "        return self.freq < other.freq\n",
    "\n",
    "def build_huffman_tree(data):\n",
    "    # Count the frequency of each character in the input data\n",
    "    freq_dict = Counter(data)\n",
    "\n",
    "    # Create a priority queue (min heap) to store HuffmanNodes\n",
    "    heap = [HuffmanNode(char, freq) for char, freq in freq_dict.items()]\n",
    "    heapq.heapify(heap)\n",
    "\n",
    "    # Build the Huffman tree\n",
    "    while len(heap) > 1:\n",
    "        left_node = heapq.heappop(heap)\n",
    "        right_node = heapq.heappop(heap)\n",
    "        merged_node = HuffmanNode(None, left_node.freq + right_node.freq)\n",
    "        merged_node.left = left_node\n",
    "        merged_node.right = right_node\n",
    "        heapq.heappush(heap, merged_node)\n",
    "\n",
    "    return heap[0]\n",
    "\n",
    "def build_huffman_codes(node, current_code, huffman_codes):\n",
    "    if node is None:\n",
    "        return\n",
    "\n",
    "    if node.char is not None:\n",
    "        huffman_codes[node.char] = current_code\n",
    "        return\n",
    "\n",
    "    build_huffman_codes(node.left, current_code + \"0\", huffman_codes)\n",
    "    build_huffman_codes(node.right, current_code + \"1\", huffman_codes)\n",
    "\n",
    "def huffman_encoding(data):\n",
    "    if not data:\n",
    "        return None, None\n",
    "\n",
    "    root = build_huffman_tree(data)\n",
    "    huffman_codes = {}\n",
    "    build_huffman_codes(root, \"\", huffman_codes)\n",
    "\n",
    "    encoded_data = \"\".join(huffman_codes[char] for char in data)\n",
    "    return encoded_data, root\n",
    "\n",
    "def huffman_decoding(encoded_data, root):\n",
    "    if not encoded_data:\n",
    "        return None\n",
    "\n",
    "    decoded_data = []\n",
    "    current_node = root\n",
    "\n",
    "    for bit in encoded_data:\n",
    "        if bit == \"0\":\n",
    "            current_node = current_node.left\n",
    "        else:\n",
    "            current_node = current_node.right\n",
    "\n",
    "        if current_node.char is not None:\n",
    "            decoded_data.append(current_node.char)\n",
    "            current_node = root\n",
    "\n",
    "    return \"\".join(decoded_data)\n",
    "\n",
    "# Example usage\n",
    "data = input(\"Enter data to encode: \")\n",
    "encoded_data, huffman_tree = huffman_encoding(data)\n",
    "decoded_data = huffman_decoding(encoded_data, huffman_tree)\n",
    "\n",
    "print(\"Original data:\", data)\n",
    "print(\"\\nEncoded data:\", encoded_data)\n",
    "print(\"\\nDecoded data:\", decoded_data)\n",
    "\n",
    "end = time.time()\n",
    "print(\"\\nExecution time is: {}ms\".format((end-start)*10**3))"
   ]
  },
  {
   "cell_type": "markdown",
   "id": "f89b5da7",
   "metadata": {},
   "source": [
    "The space complexity of the provided code is O(n), where 'n' is the number of unique characters in the input data. The time complexity is O(n * log(n)) for building the Huffman tree and O(m) for encoding and decoding, where 'n' is the number of unique characters, and 'm' is the length of the input data. The encoding and decoding operations are linear in the size of the input data."
   ]
  }
 ],
 "metadata": {
  "kernelspec": {
   "display_name": "Python 3 (ipykernel)",
   "language": "python",
   "name": "python3"
  },
  "language_info": {
   "codemirror_mode": {
    "name": "ipython",
    "version": 3
   },
   "file_extension": ".py",
   "mimetype": "text/x-python",
   "name": "python",
   "nbconvert_exporter": "python",
   "pygments_lexer": "ipython3",
   "version": "3.10.9"
  }
 },
 "nbformat": 4,
 "nbformat_minor": 5
}
