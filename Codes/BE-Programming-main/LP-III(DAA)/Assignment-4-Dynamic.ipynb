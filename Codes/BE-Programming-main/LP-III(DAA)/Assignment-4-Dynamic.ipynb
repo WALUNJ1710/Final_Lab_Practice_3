{
 "cells": [
  {
   "cell_type": "code",
   "execution_count": 2,
   "id": "24d2e525",
   "metadata": {},
   "outputs": [
    {
     "name": "stdout",
     "output_type": "stream",
     "text": [
      "How many items to add: 3\n",
      "\n",
      "Enter details for item-0\n",
      "Enter item value: 150\n",
      "Enter item weight: 25\n",
      "\n",
      "Enter details for item-1\n",
      "Enter item value: 112\n",
      "Enter item weight: 29\n",
      "\n",
      "Enter details for item-2\n",
      "Enter item value: 95\n",
      "Enter item weight: 20\n",
      "\n",
      "Items are: Values = [150, 112, 95]\n",
      "Weights = [25, 29, 20]\n",
      "Enter capacity: 50\n",
      "Maximum Value: 245\n",
      "Selected Items: [0, 2]\n",
      "\n",
      "Algorithm execution time is: 0.9999275207519531\n",
      "Execution time is: 24930.551528930664ms\n"
     ]
    }
   ],
   "source": [
    "import time\n",
    "start = time.time()\n",
    "\n",
    "def knapsack_dynamic_programming(values, weights, capacity):\n",
    "    algo_start = time.time()\n",
    "    n = len(values)\n",
    "    \n",
    "    # Create a table to store the maximum values for different capacities\n",
    "    dp = [[0] * (capacity + 1) for _ in range(n + 1)]\n",
    "    \n",
    "    # Fill the table using dynamic programming\n",
    "    for i in range(n + 1):\n",
    "        for w in range(capacity + 1):\n",
    "            if i == 0 or w == 0:\n",
    "                dp[i][w] = 0\n",
    "            elif weights[i - 1] <= w:\n",
    "                dp[i][w] = max(values[i - 1] + dp[i - 1][w - weights[i - 1]], dp[i - 1][w])\n",
    "            else:\n",
    "                dp[i][w] = dp[i - 1][w]\n",
    "    \n",
    "    # Backtrack to find the items included in the knapsack\n",
    "    items = []\n",
    "    i, j = n, capacity\n",
    "    while i > 0 and j > 0:\n",
    "        if dp[i][j] != dp[i - 1][j]:\n",
    "            items.append(i - 1)\n",
    "            j -= weights[i - 1]\n",
    "        i -= 1\n",
    "    \n",
    "    items.reverse()\n",
    "    \n",
    "    algo_end = time.time()\n",
    "    algo_exec = (algo_end-algo_start)*10**3\n",
    "    return dp[n][capacity], items, algo_exec\n",
    "\n",
    "# Example usage\n",
    "n = int(input(\"How many items to add: \"))\n",
    "values = []\n",
    "weights = []\n",
    "\n",
    "for i in range(n):\n",
    "    print(\"\\nEnter details for item-{}\".format(i))\n",
    "    item_v = int(input(\"Enter item value: \"))\n",
    "    values.append(item_v)\n",
    "    item_w = int(input(\"Enter item weight: \"))\n",
    "    weights.append(item_w)\n",
    "\n",
    "print(\"\\nItems are:\\nValues = {}\\nWeights = {}\".format(values, weights))\n",
    "capacity = int(input(\"Enter capacity: \"))\n",
    "\n",
    "max_value, selected_items, algo_execution_time = knapsack_dynamic_programming(values, weights, capacity)\n",
    "print(\"\\nMaximum Value: {}\".format(max_value))\n",
    "print(\"Selected Items: {}\".format(selected_items))\n",
    "\n",
    "end = time.time()\n",
    "print(\"\\nAlgorithm execution time is: {}\".format(algo_execution_time))\n",
    "print(\"Execution time is: {}ms\".format((end-start)*10**3))"
   ]
  },
  {
   "cell_type": "markdown",
   "id": "fe55ed29",
   "metadata": {},
   "source": [
    "The time complexity of the provided code is O(n * capacity), and the space complexity is also O(n * capacity)."
   ]
  }
 ],
 "metadata": {
  "kernelspec": {
   "display_name": "Python 3 (ipykernel)",
   "language": "python",
   "name": "python3"
  },
  "language_info": {
   "codemirror_mode": {
    "name": "ipython",
    "version": 3
   },
   "file_extension": ".py",
   "mimetype": "text/x-python",
   "name": "python",
   "nbconvert_exporter": "python",
   "pygments_lexer": "ipython3",
   "version": "3.10.9"
  }
 },
 "nbformat": 4,
 "nbformat_minor": 5
}
