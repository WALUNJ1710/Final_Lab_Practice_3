{
 "cells": [
  {
   "cell_type": "code",
   "execution_count": 1,
   "id": "e601589a",
   "metadata": {},
   "outputs": [
    {
     "name": "stdout",
     "output_type": "stream",
     "text": [
      "Deterministic Quick Sort:\n",
      "Sorted Array: [1, 1, 2, 3, 6, 8, 10]\n",
      "Execution Time: 0.000000 seconds\n",
      "\n",
      "Randomized Quick Sort:\n",
      "Sorted Array: [1, 1, 2, 3, 6, 8, 10]\n",
      "Execution Time: 0.000000 seconds\n"
     ]
    }
   ],
   "source": [
    "import random\n",
    "import time\n",
    "\n",
    "def quick_sort(arr):\n",
    "    if len(arr) <= 1:\n",
    "        return arr\n",
    "    \n",
    "    pivot = arr[0]\n",
    "    left = [x for x in arr[1:] if x <= pivot]\n",
    "    right = [x for x in arr[1:] if x > pivot]\n",
    "    \n",
    "    return quick_sort(left) + [pivot] + quick_sort(right)\n",
    "\n",
    "def randomized_quick_sort(arr):\n",
    "    if len(arr) <= 1:\n",
    "        return arr\n",
    "\n",
    "    pivot_index = random.randint(0, len(arr) - 1)\n",
    "    pivot = arr[pivot_index]\n",
    "    left = [x for x in arr[:pivot_index] + arr[pivot_index+1:] if x <= pivot]\n",
    "    right = [x for x in arr[:pivot_index] + arr[pivot_index+1:] if x > pivot]\n",
    "\n",
    "    return randomized_quick_sort(left) + [pivot] + randomized_quick_sort(right)\n",
    "\n",
    "def analyze_quick_sort(arr, variant=\"deterministic\"):\n",
    "    start_time = time.time()\n",
    "    if variant == \"deterministic\":\n",
    "        sorted_arr = quick_sort(arr)\n",
    "    elif variant == \"randomized\":\n",
    "        sorted_arr = randomized_quick_sort(arr)\n",
    "    else:\n",
    "        print(\"Invalid variant specified\")\n",
    "        return\n",
    "\n",
    "    end_time = time.time()\n",
    "    execution_time = end_time - start_time\n",
    "    return sorted_arr, execution_time\n",
    "\n",
    "# Test the analysis with a sample array\n",
    "arr = [3, 6, 8, 10, 1, 2, 1]\n",
    "sorted_arr_det, time_det = analyze_quick_sort(arr, variant=\"deterministic\")\n",
    "sorted_arr_rand, time_rand = analyze_quick_sort(arr, variant=\"randomized\")\n",
    "\n",
    "print(\"Deterministic Quick Sort:\")\n",
    "print(\"Sorted Array:\", sorted_arr_det)\n",
    "print(\"Execution Time: {:.6f} seconds\".format(time_det))\n",
    "\n",
    "print(\"\\nRandomized Quick Sort:\")\n",
    "print(\"Sorted Array:\", sorted_arr_rand)\n",
    "print(\"Execution Time: {:.6f} seconds\".format(time_rand))"
   ]
  }
 ],
 "metadata": {
  "kernelspec": {
   "display_name": "Python 3 (ipykernel)",
   "language": "python",
   "name": "python3"
  },
  "language_info": {
   "codemirror_mode": {
    "name": "ipython",
    "version": 3
   },
   "file_extension": ".py",
   "mimetype": "text/x-python",
   "name": "python",
   "nbconvert_exporter": "python",
   "pygments_lexer": "ipython3",
   "version": "3.10.9"
  }
 },
 "nbformat": 4,
 "nbformat_minor": 5
}
