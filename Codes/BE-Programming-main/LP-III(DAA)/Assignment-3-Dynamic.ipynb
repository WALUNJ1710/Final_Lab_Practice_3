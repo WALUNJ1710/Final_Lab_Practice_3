{
 "cells": [
  {
   "cell_type": "markdown",
   "id": "d6ed588a",
   "metadata": {},
   "source": [
    "### Dummy Inputs\n",
    "N = 5<br>\n",
    "(x, y): x = Item Weight, y = Item Profit <br>\n",
    "arr = [(2,10), (3,5), (5,15), (7,7), (1,6)]<br>\n",
    "W = 10"
   ]
  },
  {
   "cell_type": "code",
   "execution_count": 5,
   "id": "ab29d4b5",
   "metadata": {},
   "outputs": [
    {
     "name": "stdout",
     "output_type": "stream",
     "text": [
      "How many items to add: 3\n",
      "\n",
      "Enter details for item-1\n",
      "Enter item weight: 2\n",
      "Enter item profit: 10\n",
      "\n",
      "Enter details for item-2\n",
      "Enter item weight: 3\n",
      "Enter item profit: 17\n",
      "\n",
      "Enter details for item-3\n",
      "Enter item weight: 2\n",
      "Enter item profit: 5\n",
      "\n",
      "Items are: [(2, 10), (3, 17), (2, 5)]\n",
      "Enter capacity: 3\n",
      "\n",
      "Maximum value: 17.0\n",
      "Selected items:\n",
      "  (3, 17): Fraction = 1\n",
      "  (2, 10): Fraction = 0.0\n",
      "\n",
      "Algorithm Execution time is: 0.0ms\n",
      "Program Execution time is: 14130.146026611328ms\n"
     ]
    }
   ],
   "source": [
    "import time\n",
    "start = time.time()\n",
    "\n",
    "def fractional_knapsack(items, capacity):\n",
    "    algo_start = time.time()\n",
    "    # Calculate the value-to-weight ratio for each item\n",
    "    item_value_ratio = [(item[1] / item[0], item) for item in items]\n",
    "    \n",
    "    # Sort items by value-to-weight ratio in descending order\n",
    "    item_value_ratio.sort(reverse=True)\n",
    "    \n",
    "    total_value = 0  # Total value of selected items\n",
    "    knapsack = []    # Items selected for the knapsack\n",
    "    \n",
    "    for value_per_weight, item in item_value_ratio:\n",
    "        if capacity >= item[0]:  # If the item can fit entirely\n",
    "            knapsack.append((item, 1))  # Add the whole item\n",
    "            total_value += item[1]\n",
    "            capacity -= item[0]\n",
    "        else:  # If the item can only fit partially\n",
    "            fraction = capacity / item[0]\n",
    "            knapsack.append((item, fraction))  # Add a fraction of the item\n",
    "            total_value += item[1] * fraction\n",
    "            break  # The knapsack is now full\n",
    "    algo_end = time.time()\n",
    "    algo_exec = (algo_end-algo_start)*10**3\n",
    "    \n",
    "    return total_value, knapsack, algo_exec\n",
    "\n",
    "# Example usage:\n",
    "# (X, Y): Where X = Item Weight, Y = Item Profit\n",
    "items = []\n",
    "\n",
    "n = int(input(\"How many items to add: \"))\n",
    "for i in range(n):\n",
    "    print(\"\\nEnter details for item-{}\".format(i+1))\n",
    "    item_w = int(input(\"Enter item weight: \"))\n",
    "    item_p = int(input(\"Enter item profit: \"))\n",
    "    items.append((item_w, item_p))\n",
    "    \n",
    "print(\"\\nItems are: {}\".format(items))\n",
    "capacity = int(input(\"Enter capacity: \"))\n",
    "max_value, selected_items, algo_execution_time = fractional_knapsack(items, capacity)\n",
    "\n",
    "print(\"\\nMaximum value: {}\".format(max_value))\n",
    "print(\"Selected items:\")\n",
    "for item, fraction in selected_items:\n",
    "    print(\"  {}: Fraction = {}\".format(item,round(fraction,2)))\n",
    "\n",
    "end = time.time()\n",
    "print(\"\\nAlgorithm Execution time is: {}ms\".format(algo_execution_time))\n",
    "print(\"Program Execution time is: {}ms\".format((end-start)*10**3))"
   ]
  },
  {
   "cell_type": "markdown",
   "id": "8eca715d",
   "metadata": {},
   "source": [
    "The space complexity of the provided code is O(n), where 'n' is the number of items, and the time complexity is O(n * log(n)) due to the sorting step. The code's execution time also depends on the number of items and the specific input data provided."
   ]
  }
 ],
 "metadata": {
  "kernelspec": {
   "display_name": "Python 3 (ipykernel)",
   "language": "python",
   "name": "python3"
  },
  "language_info": {
   "codemirror_mode": {
    "name": "ipython",
    "version": 3
   },
   "file_extension": ".py",
   "mimetype": "text/x-python",
   "name": "python",
   "nbconvert_exporter": "python",
   "pygments_lexer": "ipython3",
   "version": "3.10.9"
  }
 },
 "nbformat": 4,
 "nbformat_minor": 5
}
