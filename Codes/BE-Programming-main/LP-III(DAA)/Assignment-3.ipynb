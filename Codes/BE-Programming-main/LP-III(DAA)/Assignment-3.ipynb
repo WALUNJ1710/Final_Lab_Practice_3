{
 "cells": [
  {
   "cell_type": "markdown",
   "id": "d6ed588a",
   "metadata": {},
   "source": [
    "### Dummy Inputs\n",
    "N = 5\n",
    "\n",
    "arr = [(10,2), (5,3), (15,5), (7,7), (6,1)]<br>\n",
    "W = 10"
   ]
  },
  {
   "cell_type": "code",
   "execution_count": 6,
   "id": "ab29d4b5",
   "metadata": {},
   "outputs": [
    {
     "name": "stdout",
     "output_type": "stream",
     "text": [
      "Maximum value: 34.333333333333336\n",
      "Selected items:\n",
      "  (1, 6): Fraction = 1\n",
      "  (2, 10): Fraction = 1\n",
      "  (5, 15): Fraction = 1\n",
      "  (3, 5): Fraction = 0.67\n",
      "\n",
      "Execution time is: 0.0ms\n"
     ]
    }
   ],
   "source": [
    "import time\n",
    "start = time.time()\n",
    "\n",
    "def fractional_knapsack(items, capacity):\n",
    "    # Calculate the value-to-weight ratio for each item\n",
    "    item_value_ratio = [(item[1] / item[0], item) for item in items]\n",
    "    \n",
    "    # Sort items by value-to-weight ratio in descending order\n",
    "    item_value_ratio.sort(reverse=True)\n",
    "    \n",
    "    total_value = 0  # Total value of selected items\n",
    "    knapsack = []    # Items selected for the knapsack\n",
    "    \n",
    "    for value_per_weight, item in item_value_ratio:\n",
    "        if capacity >= item[0]:  # If the item can fit entirely\n",
    "            knapsack.append((item, 1))  # Add the whole item\n",
    "            total_value += item[1]\n",
    "            capacity -= item[0]\n",
    "        else:  # If the item can only fit partially\n",
    "            fraction = capacity / item[0]\n",
    "            knapsack.append((item, fraction))  # Add a fraction of the item\n",
    "            total_value += item[1] * fraction\n",
    "            break  # The knapsack is now full\n",
    "    \n",
    "    return total_value, knapsack\n",
    "\n",
    "# Example usage:\n",
    "items = [(2, 10), (3, 5), (5, 15), (7, 7), (1, 6)]\n",
    "capacity = 10\n",
    "max_value, selected_items = fractional_knapsack(items, capacity)\n",
    "\n",
    "print(\"Maximum value: {}\".format(max_value))\n",
    "print(\"Selected items:\")\n",
    "for item, fraction in selected_items:\n",
    "    print(\"  {}: Fraction = {}\".format(item,round(fraction,2)))\n",
    "\n",
    "end = time.time()\n",
    "print(\"\\nExecution time is: {}ms\".format((end-start)*10**3))"
   ]
  }
 ],
 "metadata": {
  "kernelspec": {
   "display_name": "Python 3 (ipykernel)",
   "language": "python",
   "name": "python3"
  },
  "language_info": {
   "codemirror_mode": {
    "name": "ipython",
    "version": 3
   },
   "file_extension": ".py",
   "mimetype": "text/x-python",
   "name": "python",
   "nbconvert_exporter": "python",
   "pygments_lexer": "ipython3",
   "version": "3.10.9"
  }
 },
 "nbformat": 4,
 "nbformat_minor": 5
}
