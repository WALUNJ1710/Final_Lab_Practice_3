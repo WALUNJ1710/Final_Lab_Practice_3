{
 "cells": [
  {
   "cell_type": "markdown",
   "id": "60fbfde1",
   "metadata": {},
   "source": [
    "## Non-Recursive Approach"
   ]
  },
  {
   "cell_type": "code",
   "execution_count": 4,
   "id": "488a2ea9",
   "metadata": {},
   "outputs": [
    {
     "name": "stdout",
     "output_type": "stream",
     "text": [
      "The 10th Fibonacci number is 55.\n"
     ]
    }
   ],
   "source": [
    "def fibonacci_iterative(n):\n",
    "    if n <= 1:\n",
    "        return n\n",
    "    a, b = 0, 1\n",
    "    for i in range(2, n + 1):\n",
    "        a, b = b, a + b\n",
    "    return b\n",
    "\n",
    "# Example usage:\n",
    "n = 10\n",
    "result = fibonacci_iterative(n)\n",
    "print(f\"The {n}th Fibonacci number is {result}.\")"
   ]
  },
  {
   "cell_type": "markdown",
   "id": "a56fb4a5",
   "metadata": {},
   "source": [
    "## Non-Recursive Approach with Execution Time"
   ]
  },
  {
   "cell_type": "code",
   "execution_count": 11,
   "id": "7928546f",
   "metadata": {},
   "outputs": [
    {
     "name": "stdout",
     "output_type": "stream",
     "text": [
      "The 1000th Fibonacci number is 43466557686937456435688527675040625802564660517371780402481729089536555417949051890403879840079255169295922593080322634775209689623239873322471161642996440906533187938298969649928516003704476137795166849228875.\n",
      "Execution time is: 0.0ms\n"
     ]
    }
   ],
   "source": [
    "import time\n",
    "\n",
    "start = time.time()\n",
    "\n",
    "def fibonacci_iterative(n):\n",
    "    if n <= 1:\n",
    "        return n\n",
    "    a, b = 0, 1\n",
    "    for i in range(2, n + 1):\n",
    "        a, b = b, a + b\n",
    "    return b\n",
    "\n",
    "# Example usage:\n",
    "n = 1000 # Use your own N\n",
    "result = fibonacci_iterative(n)\n",
    "print(f\"The {n}th Fibonacci number is {result}.\")\n",
    "\n",
    "end = time.time()\n",
    "print(\"Execution time is: {}ms\".format((end-start)*10**3))"
   ]
  },
  {
   "cell_type": "markdown",
   "id": "ba84b7f6",
   "metadata": {},
   "source": [
    "**Note:** Don't panic or ask why my Execution Time is in 0.00 miliseconds, its because I have a High-End Performance Computer, which executes High Level task in seconds, so to execute such silly tasks like Fibonnaci Series my computer does it in blink of an eye."
   ]
  },
  {
   "cell_type": "markdown",
   "id": "db11fa6c",
   "metadata": {},
   "source": [
    "## Recursive Approach"
   ]
  },
  {
   "cell_type": "code",
   "execution_count": 3,
   "id": "1d5327da",
   "metadata": {},
   "outputs": [
    {
     "name": "stdout",
     "output_type": "stream",
     "text": [
      "The 10th Fibonacci number is 55\n"
     ]
    }
   ],
   "source": [
    "def fibonacci_recursive(n):\n",
    "    if n <= 1:\n",
    "        return n\n",
    "    return fibonacci_recursive(n - 1) + fibonacci_recursive(n - 2)\n",
    "\n",
    "# Example usage:\n",
    "n = 10\n",
    "result = fibonacci_recursive(n)\n",
    "print(f\"The {n}th Fibonacci number is {result}.\")"
   ]
  },
  {
   "cell_type": "markdown",
   "id": "32f17ab6",
   "metadata": {},
   "source": [
    "## Recursive Approach with Execution Time"
   ]
  },
  {
   "cell_type": "code",
   "execution_count": 1,
   "id": "90842390",
   "metadata": {},
   "outputs": [
    {
     "name": "stdout",
     "output_type": "stream",
     "text": [
      "The 10th Fibonacci number is 55.\n",
      "Execution time is: 0.0ms\n"
     ]
    }
   ],
   "source": [
    "import time\n",
    "\n",
    "start = time.time()\n",
    "\n",
    "def fibonacci_recursive(n):\n",
    "    if n <= 1:\n",
    "        return n\n",
    "    return fibonacci_recursive(n - 1) + fibonacci_recursive(n - 2)\n",
    "\n",
    "# Example usage:\n",
    "n = 10\n",
    "result = fibonacci_recursive(n)\n",
    "print(f\"The {n}th Fibonacci number is {result}.\")\n",
    "\n",
    "end = time.time()\n",
    "print(\"Execution time is: {}ms\".format((end-start)*10**3))"
   ]
  },
  {
   "cell_type": "markdown",
   "id": "0fcb6c81",
   "metadata": {},
   "source": [
    "### Time Complexity (Recursive):\n",
    "The time complexity of this approach is exponential, O(2^n). This is because it recursively calls itself twice for each value of n, leading to a large number of repeated calculations.\n",
    "\n",
    "### Space Complexity (Recursive):\n",
    "The space complexity is O(n) because it creates a recursive call stack of depth n. Each recursive call consumes space on the call stack until it reaches the base case and starts returning values."
   ]
  },
  {
   "cell_type": "markdown",
   "id": "b93f144c",
   "metadata": {},
   "source": [
    "The non-recursive (iterative) approach is more efficient in terms of both time and space complexity compared to the recursive approach. The recursive approach has exponential time complexity and can become very slow for larger values of n. Additionally, it may lead to a stack overflow error for large values of n due to the large number of recursive function calls.\n",
    "\n",
    "The non-recursive approach, on the other hand, has a linear time complexity and uses constant space, making it suitable for calculating Fibonacci numbers for larger values of n."
   ]
  }
 ],
 "metadata": {
  "kernelspec": {
   "display_name": "Python 3 (ipykernel)",
   "language": "python",
   "name": "python3"
  },
  "language_info": {
   "codemirror_mode": {
    "name": "ipython",
    "version": 3
   },
   "file_extension": ".py",
   "mimetype": "text/x-python",
   "name": "python",
   "nbconvert_exporter": "python",
   "pygments_lexer": "ipython3",
   "version": "3.10.9"
  }
 },
 "nbformat": 4,
 "nbformat_minor": 5
}
