{
 "cells": [
  {
   "cell_type": "code",
   "execution_count": 7,
   "id": "fa45b088",
   "metadata": {},
   "outputs": [
    {
     "name": "stdout",
     "output_type": "stream",
     "text": [
      ". Q . .\n",
      ". . . Q\n",
      "Q . . .\n",
      ". . Q .\n",
      "\n",
      "\n",
      ". . Q .\n",
      "Q . . .\n",
      ". . . Q\n",
      ". Q . .\n",
      "\n",
      "\n",
      "\n",
      "Execution time is: 0.0ms\n"
     ]
    }
   ],
   "source": [
    "import time\n",
    "start = time.time()\n",
    "\n",
    "def print_solution(board):\n",
    "    for row in board:\n",
    "        print(\" \".join(row))\n",
    "    print(\"\\n\")\n",
    "\n",
    "def is_safe(board, row, col, n):\n",
    "    # Check if no Queen can attack in the same column\n",
    "    for i in range(row):\n",
    "        if board[i][col] == 'Q':\n",
    "            return False\n",
    "    \n",
    "    # Check if no Queen can attack in the left diagonal\n",
    "    for i, j in zip(range(row, -1, -1), range(col, -1, -1)):\n",
    "        if board[i][j] == 'Q':\n",
    "            return False\n",
    "    \n",
    "    # Check if no Queen can attack in the right diagonal\n",
    "    for i, j in zip(range(row, -1, -1), range(col, n)):\n",
    "        if board[i][j] == 'Q':\n",
    "            return False\n",
    "    \n",
    "    return True\n",
    "\n",
    "def solve_n_queens(board, row, n):\n",
    "    if row == n:\n",
    "        # All Queens are placed successfully, print the solution\n",
    "        print_solution(board)\n",
    "        return\n",
    "\n",
    "    for col in range(n):\n",
    "        if is_safe(board, row, col, n):\n",
    "            board[row][col] = 'Q'\n",
    "            solve_n_queens(board, row + 1, n)\n",
    "            board[row][col] = '.'  # Backtrack\n",
    "\n",
    "def n_queens(n):\n",
    "    if n <= 0:\n",
    "        return []\n",
    "\n",
    "    board = [['.' for _ in range(n)] for _ in range(n)]\n",
    "    solve_n_queens(board, 0, n)\n",
    "\n",
    "n = 4  # Change this to the desired N value\n",
    "n_queens(n)\n",
    "\n",
    "end = time.time()\n",
    "print(\"\\nExecution time is: {}ms\".format((end-start)*10**3))"
   ]
  }
 ],
 "metadata": {
  "kernelspec": {
   "display_name": "Python 3 (ipykernel)",
   "language": "python",
   "name": "python3"
  },
  "language_info": {
   "codemirror_mode": {
    "name": "ipython",
    "version": 3
   },
   "file_extension": ".py",
   "mimetype": "text/x-python",
   "name": "python",
   "nbconvert_exporter": "python",
   "pygments_lexer": "ipython3",
   "version": "3.10.9"
  }
 },
 "nbformat": 4,
 "nbformat_minor": 5
}
