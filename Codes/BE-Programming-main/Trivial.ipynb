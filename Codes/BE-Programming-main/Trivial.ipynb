{
 "cells": [
  {
   "cell_type": "markdown",
   "id": "2a1419b4",
   "metadata": {},
   "source": [
    "## Kaprekar's Constant\n",
    "Step 1: Take a 4 digit number\n",
    "Step 2: Sort the number in descending order eg. 8273 -> 8732<br>\n",
    "Step 3: Take the sorted number and reverse it eg. 8732 -> 2378<br>\n",
    "Step 4: Subtract sorted number by its reverse number eg. 8732 - 2378<br>\n",
    "Step 5: Take the subtracted number and repeat step 2, 3, 4, 5<br>\n",
    "Step 6: We will eventually get 6174 as our result, no matter which 4 digit number you pick<br>\n",
    "\n",
    "Rules: Numbers like 0001 or 0321 are not 4 digit number. Numbers like 1111, 2222, 3333 ... etc are not allowed."
   ]
  },
  {
   "cell_type": "code",
   "execution_count": 14,
   "id": "2fe7ffb9",
   "metadata": {},
   "outputs": [
    {
     "name": "stdout",
     "output_type": "stream",
     "text": [
      "--------------------------------------\n",
      "Number: 2134\n",
      "Sorted Number: 4321\n",
      "Reversed Number: 1234\n",
      "Subtraction is: 3087\n",
      "--------------------------------------\n",
      "Number: 3087\n",
      "Sorted Number: 8730\n",
      "Reversed Number: 378\n",
      "Subtraction is: 8352\n",
      "--------------------------------------\n",
      "Number: 8352\n",
      "Sorted Number: 8532\n",
      "Reversed Number: 2358\n",
      "Subtraction is: 6174\n",
      "Stopped!\n"
     ]
    }
   ],
   "source": [
    "import random\n",
    "\n",
    "def Sort(list_numbers):\n",
    "    temp = ''\n",
    "    for y in list_numbers:\n",
    "        temp+=str(y)\n",
    "    sorted_number = int(temp)\n",
    "    return sorted_number\n",
    "\n",
    "def Kaprekars_Constant(number):\n",
    "    print(\"--------------------------------------\")\n",
    "    print(\"Number: {}\".format(number))\n",
    "    list_num = [int(x) for x in str(number)]\n",
    "    list_num.sort(reverse=True)\n",
    "    \n",
    "    # Sort from Lowest to Highest integer\n",
    "    sort = Sort(list_num)\n",
    "    \n",
    "    # Reverse the sorted integer\n",
    "    reversed_number = int(str(sort)[::-1])\n",
    "    \n",
    "    print(\"Sorted Number: {}\\nReversed Number: {}\".format(sort, reversed_number))\n",
    "    subtraction = sort - reversed_number\n",
    "    if subtraction != 6174:\n",
    "        print(\"Subtraction is: {}\".format(subtraction))\n",
    "        Kaprekars_Constant(subtraction)\n",
    "    else:\n",
    "        print(\"Subtraction is: {}\".format(subtraction))\n",
    "        print(\"Stopped!\")\n",
    "\n",
    "    \n",
    "Kaprekars_Constant(random.randint(1000,9999))"
   ]
  }
 ],
 "metadata": {
  "kernelspec": {
   "display_name": "Python 3 (ipykernel)",
   "language": "python",
   "name": "python3"
  },
  "language_info": {
   "codemirror_mode": {
    "name": "ipython",
    "version": 3
   },
   "file_extension": ".py",
   "mimetype": "text/x-python",
   "name": "python",
   "nbconvert_exporter": "python",
   "pygments_lexer": "ipython3",
   "version": "3.10.9"
  }
 },
 "nbformat": 4,
 "nbformat_minor": 5
}
