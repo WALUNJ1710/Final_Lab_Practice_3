{
 "cells": [
  {
   "cell_type": "markdown",
   "id": "e6463149",
   "metadata": {},
   "source": [
    "## Importing Libraries"
   ]
  },
  {
   "cell_type": "code",
   "execution_count": 41,
   "id": "22fdd523",
   "metadata": {},
   "outputs": [],
   "source": [
    "import numpy as np\n",
    "import pandas as pd\n",
    "import matplotlib.pyplot as plt\n",
    "import seaborn as sns\n",
    "from sklearn.preprocessing import MinMaxScaler\n",
    "import sklearn\n",
    "from sklearn.model_selection import train_test_split, GridSearchCV, cross_val_score\n",
    "from sklearn import metrics\n",
    "from sklearn.metrics import mean_squared_error\n",
    "from sklearn.linear_model import Ridge, Lasso, LinearRegression, LassoCV, RidgeCV\n",
    "from sklearn.ensemble import RandomForestRegressor"
   ]
  },
  {
   "cell_type": "code",
   "execution_count": 42,
   "id": "89fecdc0",
   "metadata": {},
   "outputs": [
    {
     "data": {
      "text/html": [
       "<div>\n",
       "<style scoped>\n",
       "    .dataframe tbody tr th:only-of-type {\n",
       "        vertical-align: middle;\n",
       "    }\n",
       "\n",
       "    .dataframe tbody tr th {\n",
       "        vertical-align: top;\n",
       "    }\n",
       "\n",
       "    .dataframe thead th {\n",
       "        text-align: right;\n",
       "    }\n",
       "</style>\n",
       "<table border=\"1\" class=\"dataframe\">\n",
       "  <thead>\n",
       "    <tr style=\"text-align: right;\">\n",
       "      <th></th>\n",
       "      <th>Unnamed: 0</th>\n",
       "      <th>key</th>\n",
       "      <th>fare_amount</th>\n",
       "      <th>pickup_datetime</th>\n",
       "      <th>pickup_longitude</th>\n",
       "      <th>pickup_latitude</th>\n",
       "      <th>dropoff_longitude</th>\n",
       "      <th>dropoff_latitude</th>\n",
       "      <th>passenger_count</th>\n",
       "    </tr>\n",
       "  </thead>\n",
       "  <tbody>\n",
       "    <tr>\n",
       "      <th>0</th>\n",
       "      <td>24238194</td>\n",
       "      <td>2015-05-07 19:52:06.0000003</td>\n",
       "      <td>7.5</td>\n",
       "      <td>2015-05-07 19:52:06 UTC</td>\n",
       "      <td>-73.999817</td>\n",
       "      <td>40.738354</td>\n",
       "      <td>-73.999512</td>\n",
       "      <td>40.723217</td>\n",
       "      <td>1</td>\n",
       "    </tr>\n",
       "    <tr>\n",
       "      <th>1</th>\n",
       "      <td>27835199</td>\n",
       "      <td>2009-07-17 20:04:56.0000002</td>\n",
       "      <td>7.7</td>\n",
       "      <td>2009-07-17 20:04:56 UTC</td>\n",
       "      <td>-73.994355</td>\n",
       "      <td>40.728225</td>\n",
       "      <td>-73.994710</td>\n",
       "      <td>40.750325</td>\n",
       "      <td>1</td>\n",
       "    </tr>\n",
       "    <tr>\n",
       "      <th>2</th>\n",
       "      <td>44984355</td>\n",
       "      <td>2009-08-24 21:45:00.00000061</td>\n",
       "      <td>12.9</td>\n",
       "      <td>2009-08-24 21:45:00 UTC</td>\n",
       "      <td>-74.005043</td>\n",
       "      <td>40.740770</td>\n",
       "      <td>-73.962565</td>\n",
       "      <td>40.772647</td>\n",
       "      <td>1</td>\n",
       "    </tr>\n",
       "    <tr>\n",
       "      <th>3</th>\n",
       "      <td>25894730</td>\n",
       "      <td>2009-06-26 08:22:21.0000001</td>\n",
       "      <td>5.3</td>\n",
       "      <td>2009-06-26 08:22:21 UTC</td>\n",
       "      <td>-73.976124</td>\n",
       "      <td>40.790844</td>\n",
       "      <td>-73.965316</td>\n",
       "      <td>40.803349</td>\n",
       "      <td>3</td>\n",
       "    </tr>\n",
       "    <tr>\n",
       "      <th>4</th>\n",
       "      <td>17610152</td>\n",
       "      <td>2014-08-28 17:47:00.000000188</td>\n",
       "      <td>16.0</td>\n",
       "      <td>2014-08-28 17:47:00 UTC</td>\n",
       "      <td>-73.925023</td>\n",
       "      <td>40.744085</td>\n",
       "      <td>-73.973082</td>\n",
       "      <td>40.761247</td>\n",
       "      <td>5</td>\n",
       "    </tr>\n",
       "    <tr>\n",
       "      <th>...</th>\n",
       "      <td>...</td>\n",
       "      <td>...</td>\n",
       "      <td>...</td>\n",
       "      <td>...</td>\n",
       "      <td>...</td>\n",
       "      <td>...</td>\n",
       "      <td>...</td>\n",
       "      <td>...</td>\n",
       "      <td>...</td>\n",
       "    </tr>\n",
       "    <tr>\n",
       "      <th>199995</th>\n",
       "      <td>42598914</td>\n",
       "      <td>2012-10-28 10:49:00.00000053</td>\n",
       "      <td>3.0</td>\n",
       "      <td>2012-10-28 10:49:00 UTC</td>\n",
       "      <td>-73.987042</td>\n",
       "      <td>40.739367</td>\n",
       "      <td>-73.986525</td>\n",
       "      <td>40.740297</td>\n",
       "      <td>1</td>\n",
       "    </tr>\n",
       "    <tr>\n",
       "      <th>199996</th>\n",
       "      <td>16382965</td>\n",
       "      <td>2014-03-14 01:09:00.0000008</td>\n",
       "      <td>7.5</td>\n",
       "      <td>2014-03-14 01:09:00 UTC</td>\n",
       "      <td>-73.984722</td>\n",
       "      <td>40.736837</td>\n",
       "      <td>-74.006672</td>\n",
       "      <td>40.739620</td>\n",
       "      <td>1</td>\n",
       "    </tr>\n",
       "    <tr>\n",
       "      <th>199997</th>\n",
       "      <td>27804658</td>\n",
       "      <td>2009-06-29 00:42:00.00000078</td>\n",
       "      <td>30.9</td>\n",
       "      <td>2009-06-29 00:42:00 UTC</td>\n",
       "      <td>-73.986017</td>\n",
       "      <td>40.756487</td>\n",
       "      <td>-73.858957</td>\n",
       "      <td>40.692588</td>\n",
       "      <td>2</td>\n",
       "    </tr>\n",
       "    <tr>\n",
       "      <th>199998</th>\n",
       "      <td>20259894</td>\n",
       "      <td>2015-05-20 14:56:25.0000004</td>\n",
       "      <td>14.5</td>\n",
       "      <td>2015-05-20 14:56:25 UTC</td>\n",
       "      <td>-73.997124</td>\n",
       "      <td>40.725452</td>\n",
       "      <td>-73.983215</td>\n",
       "      <td>40.695415</td>\n",
       "      <td>1</td>\n",
       "    </tr>\n",
       "    <tr>\n",
       "      <th>199999</th>\n",
       "      <td>11951496</td>\n",
       "      <td>2010-05-15 04:08:00.00000076</td>\n",
       "      <td>14.1</td>\n",
       "      <td>2010-05-15 04:08:00 UTC</td>\n",
       "      <td>-73.984395</td>\n",
       "      <td>40.720077</td>\n",
       "      <td>-73.985508</td>\n",
       "      <td>40.768793</td>\n",
       "      <td>1</td>\n",
       "    </tr>\n",
       "  </tbody>\n",
       "</table>\n",
       "<p>200000 rows × 9 columns</p>\n",
       "</div>"
      ],
      "text/plain": [
       "        Unnamed: 0                            key  fare_amount  \\\n",
       "0         24238194    2015-05-07 19:52:06.0000003          7.5   \n",
       "1         27835199    2009-07-17 20:04:56.0000002          7.7   \n",
       "2         44984355   2009-08-24 21:45:00.00000061         12.9   \n",
       "3         25894730    2009-06-26 08:22:21.0000001          5.3   \n",
       "4         17610152  2014-08-28 17:47:00.000000188         16.0   \n",
       "...            ...                            ...          ...   \n",
       "199995    42598914   2012-10-28 10:49:00.00000053          3.0   \n",
       "199996    16382965    2014-03-14 01:09:00.0000008          7.5   \n",
       "199997    27804658   2009-06-29 00:42:00.00000078         30.9   \n",
       "199998    20259894    2015-05-20 14:56:25.0000004         14.5   \n",
       "199999    11951496   2010-05-15 04:08:00.00000076         14.1   \n",
       "\n",
       "                pickup_datetime  pickup_longitude  pickup_latitude  \\\n",
       "0       2015-05-07 19:52:06 UTC        -73.999817        40.738354   \n",
       "1       2009-07-17 20:04:56 UTC        -73.994355        40.728225   \n",
       "2       2009-08-24 21:45:00 UTC        -74.005043        40.740770   \n",
       "3       2009-06-26 08:22:21 UTC        -73.976124        40.790844   \n",
       "4       2014-08-28 17:47:00 UTC        -73.925023        40.744085   \n",
       "...                         ...               ...              ...   \n",
       "199995  2012-10-28 10:49:00 UTC        -73.987042        40.739367   \n",
       "199996  2014-03-14 01:09:00 UTC        -73.984722        40.736837   \n",
       "199997  2009-06-29 00:42:00 UTC        -73.986017        40.756487   \n",
       "199998  2015-05-20 14:56:25 UTC        -73.997124        40.725452   \n",
       "199999  2010-05-15 04:08:00 UTC        -73.984395        40.720077   \n",
       "\n",
       "        dropoff_longitude  dropoff_latitude  passenger_count  \n",
       "0              -73.999512         40.723217                1  \n",
       "1              -73.994710         40.750325                1  \n",
       "2              -73.962565         40.772647                1  \n",
       "3              -73.965316         40.803349                3  \n",
       "4              -73.973082         40.761247                5  \n",
       "...                   ...               ...              ...  \n",
       "199995         -73.986525         40.740297                1  \n",
       "199996         -74.006672         40.739620                1  \n",
       "199997         -73.858957         40.692588                2  \n",
       "199998         -73.983215         40.695415                1  \n",
       "199999         -73.985508         40.768793                1  \n",
       "\n",
       "[200000 rows x 9 columns]"
      ]
     },
     "execution_count": 42,
     "metadata": {},
     "output_type": "execute_result"
    }
   ],
   "source": [
    "df = pd.read_csv(\"uber.csv\")\n",
    "df"
   ]
  },
  {
   "cell_type": "code",
   "execution_count": 43,
   "id": "f2d9c2ee",
   "metadata": {},
   "outputs": [
    {
     "data": {
      "text/plain": [
       "Unnamed: 0           0\n",
       "key                  0\n",
       "fare_amount          0\n",
       "pickup_datetime      0\n",
       "pickup_longitude     0\n",
       "pickup_latitude      0\n",
       "dropoff_longitude    1\n",
       "dropoff_latitude     1\n",
       "passenger_count      0\n",
       "dtype: int64"
      ]
     },
     "execution_count": 43,
     "metadata": {},
     "output_type": "execute_result"
    }
   ],
   "source": [
    "df.isnull().sum()"
   ]
  },
  {
   "cell_type": "code",
   "execution_count": 44,
   "id": "e8875b3f",
   "metadata": {},
   "outputs": [
    {
     "data": {
      "text/html": [
       "<div>\n",
       "<style scoped>\n",
       "    .dataframe tbody tr th:only-of-type {\n",
       "        vertical-align: middle;\n",
       "    }\n",
       "\n",
       "    .dataframe tbody tr th {\n",
       "        vertical-align: top;\n",
       "    }\n",
       "\n",
       "    .dataframe thead th {\n",
       "        text-align: right;\n",
       "    }\n",
       "</style>\n",
       "<table border=\"1\" class=\"dataframe\">\n",
       "  <thead>\n",
       "    <tr style=\"text-align: right;\">\n",
       "      <th></th>\n",
       "      <th>Unnamed: 0</th>\n",
       "      <th>key</th>\n",
       "      <th>fare_amount</th>\n",
       "      <th>pickup_datetime</th>\n",
       "      <th>pickup_longitude</th>\n",
       "      <th>pickup_latitude</th>\n",
       "      <th>dropoff_longitude</th>\n",
       "      <th>dropoff_latitude</th>\n",
       "      <th>passenger_count</th>\n",
       "    </tr>\n",
       "  </thead>\n",
       "  <tbody>\n",
       "    <tr>\n",
       "      <th>0</th>\n",
       "      <td>24238194</td>\n",
       "      <td>2015-05-07 19:52:06.0000003</td>\n",
       "      <td>7.5</td>\n",
       "      <td>2015-05-07 19:52:06 UTC</td>\n",
       "      <td>-73.999817</td>\n",
       "      <td>40.738354</td>\n",
       "      <td>-73.999512</td>\n",
       "      <td>40.723217</td>\n",
       "      <td>1</td>\n",
       "    </tr>\n",
       "    <tr>\n",
       "      <th>1</th>\n",
       "      <td>27835199</td>\n",
       "      <td>2009-07-17 20:04:56.0000002</td>\n",
       "      <td>7.7</td>\n",
       "      <td>2009-07-17 20:04:56 UTC</td>\n",
       "      <td>-73.994355</td>\n",
       "      <td>40.728225</td>\n",
       "      <td>-73.994710</td>\n",
       "      <td>40.750325</td>\n",
       "      <td>1</td>\n",
       "    </tr>\n",
       "    <tr>\n",
       "      <th>2</th>\n",
       "      <td>44984355</td>\n",
       "      <td>2009-08-24 21:45:00.00000061</td>\n",
       "      <td>12.9</td>\n",
       "      <td>2009-08-24 21:45:00 UTC</td>\n",
       "      <td>-74.005043</td>\n",
       "      <td>40.740770</td>\n",
       "      <td>-73.962565</td>\n",
       "      <td>40.772647</td>\n",
       "      <td>1</td>\n",
       "    </tr>\n",
       "    <tr>\n",
       "      <th>3</th>\n",
       "      <td>25894730</td>\n",
       "      <td>2009-06-26 08:22:21.0000001</td>\n",
       "      <td>5.3</td>\n",
       "      <td>2009-06-26 08:22:21 UTC</td>\n",
       "      <td>-73.976124</td>\n",
       "      <td>40.790844</td>\n",
       "      <td>-73.965316</td>\n",
       "      <td>40.803349</td>\n",
       "      <td>3</td>\n",
       "    </tr>\n",
       "    <tr>\n",
       "      <th>4</th>\n",
       "      <td>17610152</td>\n",
       "      <td>2014-08-28 17:47:00.000000188</td>\n",
       "      <td>16.0</td>\n",
       "      <td>2014-08-28 17:47:00 UTC</td>\n",
       "      <td>-73.925023</td>\n",
       "      <td>40.744085</td>\n",
       "      <td>-73.973082</td>\n",
       "      <td>40.761247</td>\n",
       "      <td>5</td>\n",
       "    </tr>\n",
       "  </tbody>\n",
       "</table>\n",
       "</div>"
      ],
      "text/plain": [
       "   Unnamed: 0                            key  fare_amount  \\\n",
       "0    24238194    2015-05-07 19:52:06.0000003          7.5   \n",
       "1    27835199    2009-07-17 20:04:56.0000002          7.7   \n",
       "2    44984355   2009-08-24 21:45:00.00000061         12.9   \n",
       "3    25894730    2009-06-26 08:22:21.0000001          5.3   \n",
       "4    17610152  2014-08-28 17:47:00.000000188         16.0   \n",
       "\n",
       "           pickup_datetime  pickup_longitude  pickup_latitude  \\\n",
       "0  2015-05-07 19:52:06 UTC        -73.999817        40.738354   \n",
       "1  2009-07-17 20:04:56 UTC        -73.994355        40.728225   \n",
       "2  2009-08-24 21:45:00 UTC        -74.005043        40.740770   \n",
       "3  2009-06-26 08:22:21 UTC        -73.976124        40.790844   \n",
       "4  2014-08-28 17:47:00 UTC        -73.925023        40.744085   \n",
       "\n",
       "   dropoff_longitude  dropoff_latitude  passenger_count  \n",
       "0         -73.999512         40.723217                1  \n",
       "1         -73.994710         40.750325                1  \n",
       "2         -73.962565         40.772647                1  \n",
       "3         -73.965316         40.803349                3  \n",
       "4         -73.973082         40.761247                5  "
      ]
     },
     "execution_count": 44,
     "metadata": {},
     "output_type": "execute_result"
    }
   ],
   "source": [
    "df.head()"
   ]
  },
  {
   "cell_type": "code",
   "execution_count": 45,
   "id": "5d9939be",
   "metadata": {},
   "outputs": [
    {
     "data": {
      "text/plain": [
       "(200000, 9)"
      ]
     },
     "execution_count": 45,
     "metadata": {},
     "output_type": "execute_result"
    }
   ],
   "source": [
    "df.shape"
   ]
  },
  {
   "cell_type": "code",
   "execution_count": 46,
   "id": "c501e4fd",
   "metadata": {},
   "outputs": [
    {
     "name": "stdout",
     "output_type": "stream",
     "text": [
      "<class 'pandas.core.frame.DataFrame'>\n",
      "RangeIndex: 200000 entries, 0 to 199999\n",
      "Data columns (total 9 columns):\n",
      " #   Column             Non-Null Count   Dtype  \n",
      "---  ------             --------------   -----  \n",
      " 0   Unnamed: 0         200000 non-null  int64  \n",
      " 1   key                200000 non-null  object \n",
      " 2   fare_amount        200000 non-null  float64\n",
      " 3   pickup_datetime    200000 non-null  object \n",
      " 4   pickup_longitude   200000 non-null  float64\n",
      " 5   pickup_latitude    200000 non-null  float64\n",
      " 6   dropoff_longitude  199999 non-null  float64\n",
      " 7   dropoff_latitude   199999 non-null  float64\n",
      " 8   passenger_count    200000 non-null  int64  \n",
      "dtypes: float64(5), int64(2), object(2)\n",
      "memory usage: 13.7+ MB\n"
     ]
    }
   ],
   "source": [
    "df.info()"
   ]
  },
  {
   "cell_type": "markdown",
   "id": "0ca19db8",
   "metadata": {},
   "source": [
    "Column 'pickup_datetime' datatype is object. It should be datetime.<br>\n",
    "The columns dropoff_longitude and dropoff_latitude have one missing values."
   ]
  },
  {
   "cell_type": "markdown",
   "id": "f94f84a5",
   "metadata": {},
   "source": [
    "## Pre-processing"
   ]
  },
  {
   "cell_type": "code",
   "execution_count": 47,
   "id": "97ab170c",
   "metadata": {},
   "outputs": [
    {
     "data": {
      "text/html": [
       "<div>\n",
       "<style scoped>\n",
       "    .dataframe tbody tr th:only-of-type {\n",
       "        vertical-align: middle;\n",
       "    }\n",
       "\n",
       "    .dataframe tbody tr th {\n",
       "        vertical-align: top;\n",
       "    }\n",
       "\n",
       "    .dataframe thead th {\n",
       "        text-align: right;\n",
       "    }\n",
       "</style>\n",
       "<table border=\"1\" class=\"dataframe\">\n",
       "  <thead>\n",
       "    <tr style=\"text-align: right;\">\n",
       "      <th></th>\n",
       "      <th>Unnamed: 0</th>\n",
       "      <th>key</th>\n",
       "      <th>fare_amount</th>\n",
       "      <th>pickup_datetime</th>\n",
       "      <th>pickup_longitude</th>\n",
       "      <th>pickup_latitude</th>\n",
       "      <th>dropoff_longitude</th>\n",
       "      <th>dropoff_latitude</th>\n",
       "      <th>passenger_count</th>\n",
       "    </tr>\n",
       "  </thead>\n",
       "  <tbody>\n",
       "    <tr>\n",
       "      <th>87946</th>\n",
       "      <td>32736015</td>\n",
       "      <td>2013-07-02 03:51:57.0000001</td>\n",
       "      <td>24.1</td>\n",
       "      <td>2013-07-02 03:51:57 UTC</td>\n",
       "      <td>-73.950581</td>\n",
       "      <td>40.779692</td>\n",
       "      <td>NaN</td>\n",
       "      <td>NaN</td>\n",
       "      <td>0</td>\n",
       "    </tr>\n",
       "  </tbody>\n",
       "</table>\n",
       "</div>"
      ],
      "text/plain": [
       "       Unnamed: 0                          key  fare_amount  \\\n",
       "87946    32736015  2013-07-02 03:51:57.0000001         24.1   \n",
       "\n",
       "               pickup_datetime  pickup_longitude  pickup_latitude  \\\n",
       "87946  2013-07-02 03:51:57 UTC        -73.950581        40.779692   \n",
       "\n",
       "       dropoff_longitude  dropoff_latitude  passenger_count  \n",
       "87946                NaN               NaN                0  "
      ]
     },
     "execution_count": 47,
     "metadata": {},
     "output_type": "execute_result"
    }
   ],
   "source": [
    "df[df['dropoff_longitude'].isnull()]"
   ]
  },
  {
   "cell_type": "code",
   "execution_count": 48,
   "id": "28d262d1",
   "metadata": {},
   "outputs": [],
   "source": [
    "# Since there is only one missing value we can drop it\n",
    "\n",
    "df.dropna(inplace=True)\n",
    "df['pickup_datetime'] = pd.to_datetime(df['pickup_datetime'])"
   ]
  },
  {
   "cell_type": "code",
   "execution_count": 49,
   "id": "b76124a6",
   "metadata": {},
   "outputs": [
    {
     "name": "stdout",
     "output_type": "stream",
     "text": [
      "<class 'pandas.core.frame.DataFrame'>\n",
      "Int64Index: 199999 entries, 0 to 199999\n",
      "Data columns (total 9 columns):\n",
      " #   Column             Non-Null Count   Dtype              \n",
      "---  ------             --------------   -----              \n",
      " 0   Unnamed: 0         199999 non-null  int64              \n",
      " 1   key                199999 non-null  object             \n",
      " 2   fare_amount        199999 non-null  float64            \n",
      " 3   pickup_datetime    199999 non-null  datetime64[ns, UTC]\n",
      " 4   pickup_longitude   199999 non-null  float64            \n",
      " 5   pickup_latitude    199999 non-null  float64            \n",
      " 6   dropoff_longitude  199999 non-null  float64            \n",
      " 7   dropoff_latitude   199999 non-null  float64            \n",
      " 8   passenger_count    199999 non-null  int64              \n",
      "dtypes: datetime64[ns, UTC](1), float64(5), int64(2), object(1)\n",
      "memory usage: 15.3+ MB\n"
     ]
    }
   ],
   "source": [
    "\n",
    "df.info()"
   ]
  },
  {
   "cell_type": "code",
   "execution_count": 50,
   "id": "920d9098",
   "metadata": {},
   "outputs": [
    {
     "data": {
      "text/html": [
       "<div>\n",
       "<style scoped>\n",
       "    .dataframe tbody tr th:only-of-type {\n",
       "        vertical-align: middle;\n",
       "    }\n",
       "\n",
       "    .dataframe tbody tr th {\n",
       "        vertical-align: top;\n",
       "    }\n",
       "\n",
       "    .dataframe thead th {\n",
       "        text-align: right;\n",
       "    }\n",
       "</style>\n",
       "<table border=\"1\" class=\"dataframe\">\n",
       "  <thead>\n",
       "    <tr style=\"text-align: right;\">\n",
       "      <th></th>\n",
       "      <th>Unnamed: 0</th>\n",
       "      <th>fare_amount</th>\n",
       "      <th>pickup_longitude</th>\n",
       "      <th>pickup_latitude</th>\n",
       "      <th>dropoff_longitude</th>\n",
       "      <th>dropoff_latitude</th>\n",
       "      <th>passenger_count</th>\n",
       "    </tr>\n",
       "  </thead>\n",
       "  <tbody>\n",
       "    <tr>\n",
       "      <th>count</th>\n",
       "      <td>1.999990e+05</td>\n",
       "      <td>199999.000000</td>\n",
       "      <td>199999.000000</td>\n",
       "      <td>199999.000000</td>\n",
       "      <td>199999.000000</td>\n",
       "      <td>199999.000000</td>\n",
       "      <td>199999.000000</td>\n",
       "    </tr>\n",
       "    <tr>\n",
       "      <th>mean</th>\n",
       "      <td>2.771248e+07</td>\n",
       "      <td>11.359892</td>\n",
       "      <td>-72.527631</td>\n",
       "      <td>39.935881</td>\n",
       "      <td>-72.525292</td>\n",
       "      <td>39.923890</td>\n",
       "      <td>1.684543</td>\n",
       "    </tr>\n",
       "    <tr>\n",
       "      <th>std</th>\n",
       "      <td>1.601386e+07</td>\n",
       "      <td>9.901760</td>\n",
       "      <td>11.437815</td>\n",
       "      <td>7.720558</td>\n",
       "      <td>13.117408</td>\n",
       "      <td>6.794829</td>\n",
       "      <td>1.385995</td>\n",
       "    </tr>\n",
       "    <tr>\n",
       "      <th>min</th>\n",
       "      <td>1.000000e+00</td>\n",
       "      <td>-52.000000</td>\n",
       "      <td>-1340.648410</td>\n",
       "      <td>-74.015515</td>\n",
       "      <td>-3356.666300</td>\n",
       "      <td>-881.985513</td>\n",
       "      <td>0.000000</td>\n",
       "    </tr>\n",
       "    <tr>\n",
       "      <th>25%</th>\n",
       "      <td>1.382534e+07</td>\n",
       "      <td>6.000000</td>\n",
       "      <td>-73.992065</td>\n",
       "      <td>40.734796</td>\n",
       "      <td>-73.991407</td>\n",
       "      <td>40.733823</td>\n",
       "      <td>1.000000</td>\n",
       "    </tr>\n",
       "    <tr>\n",
       "      <th>50%</th>\n",
       "      <td>2.774524e+07</td>\n",
       "      <td>8.500000</td>\n",
       "      <td>-73.981823</td>\n",
       "      <td>40.752592</td>\n",
       "      <td>-73.980093</td>\n",
       "      <td>40.753042</td>\n",
       "      <td>1.000000</td>\n",
       "    </tr>\n",
       "    <tr>\n",
       "      <th>75%</th>\n",
       "      <td>4.155535e+07</td>\n",
       "      <td>12.500000</td>\n",
       "      <td>-73.967154</td>\n",
       "      <td>40.767158</td>\n",
       "      <td>-73.963658</td>\n",
       "      <td>40.768001</td>\n",
       "      <td>2.000000</td>\n",
       "    </tr>\n",
       "    <tr>\n",
       "      <th>max</th>\n",
       "      <td>5.542357e+07</td>\n",
       "      <td>499.000000</td>\n",
       "      <td>57.418457</td>\n",
       "      <td>1644.421482</td>\n",
       "      <td>1153.572603</td>\n",
       "      <td>872.697628</td>\n",
       "      <td>208.000000</td>\n",
       "    </tr>\n",
       "  </tbody>\n",
       "</table>\n",
       "</div>"
      ],
      "text/plain": [
       "         Unnamed: 0    fare_amount  pickup_longitude  pickup_latitude  \\\n",
       "count  1.999990e+05  199999.000000     199999.000000    199999.000000   \n",
       "mean   2.771248e+07      11.359892        -72.527631        39.935881   \n",
       "std    1.601386e+07       9.901760         11.437815         7.720558   \n",
       "min    1.000000e+00     -52.000000      -1340.648410       -74.015515   \n",
       "25%    1.382534e+07       6.000000        -73.992065        40.734796   \n",
       "50%    2.774524e+07       8.500000        -73.981823        40.752592   \n",
       "75%    4.155535e+07      12.500000        -73.967154        40.767158   \n",
       "max    5.542357e+07     499.000000         57.418457      1644.421482   \n",
       "\n",
       "       dropoff_longitude  dropoff_latitude  passenger_count  \n",
       "count      199999.000000     199999.000000    199999.000000  \n",
       "mean          -72.525292         39.923890         1.684543  \n",
       "std            13.117408          6.794829         1.385995  \n",
       "min         -3356.666300       -881.985513         0.000000  \n",
       "25%           -73.991407         40.733823         1.000000  \n",
       "50%           -73.980093         40.753042         1.000000  \n",
       "75%           -73.963658         40.768001         2.000000  \n",
       "max          1153.572603        872.697628       208.000000  "
      ]
     },
     "execution_count": 50,
     "metadata": {},
     "output_type": "execute_result"
    }
   ],
   "source": [
    "df.describe()"
   ]
  },
  {
   "cell_type": "markdown",
   "id": "558ca33e",
   "metadata": {},
   "source": [
    "1. Longitude and latitude values must be between -90 to 90. Some rows have inconsistent values.<br>\n",
    "2. Minimum fare amount is negative. May be an error.<br>\n",
    "3. Maximum fare is significantly high. It needs to be analyzed.<br>\n",
    "4. The minimum passenger count is 0 and max is 208. Both the values seem inconsistent.<br>"
   ]
  },
  {
   "cell_type": "code",
   "execution_count": 51,
   "id": "bd7e6e91",
   "metadata": {},
   "outputs": [
    {
     "data": {
      "text/plain": [
       "(13, 9)"
      ]
     },
     "execution_count": 51,
     "metadata": {},
     "output_type": "execute_result"
    }
   ],
   "source": [
    "df_delete = df[(df['pickup_latitude']>180) | (df['pickup_latitude']<-180)|\n",
    "        (df['dropoff_latitude']>180) | (df['dropoff_latitude']< -180)|\n",
    "       (df['pickup_longitude']>90) | (df['pickup_longitude']<-90) |\n",
    "   (df['dropoff_longitude']>90) | (df['dropoff_longitude']<-90)]\n",
    "df_delete.shape"
   ]
  },
  {
   "cell_type": "code",
   "execution_count": 52,
   "id": "fee54276",
   "metadata": {},
   "outputs": [
    {
     "data": {
      "text/plain": [
       "Int64Index([  4949,  32549,  40908,  48506,  56617,  61793,  75851,  91422,\n",
       "            103745, 139447, 144253, 161652, 199936],\n",
       "           dtype='int64')"
      ]
     },
     "execution_count": 52,
     "metadata": {},
     "output_type": "execute_result"
    }
   ],
   "source": [
    "index_to_delete = df_delete.index\n",
    "index_to_delete"
   ]
  },
  {
   "cell_type": "markdown",
   "id": "e7111d7a",
   "metadata": {},
   "source": [
    "Values at above mentioned Index will be deleted."
   ]
  },
  {
   "cell_type": "code",
   "execution_count": 53,
   "id": "4bd6b1b6",
   "metadata": {},
   "outputs": [],
   "source": [
    "df.drop(index_to_delete,inplace=True)"
   ]
  },
  {
   "cell_type": "code",
   "execution_count": 54,
   "id": "e7940ff8",
   "metadata": {},
   "outputs": [
    {
     "data": {
      "text/plain": [
       "(199986, 9)"
      ]
     },
     "execution_count": 54,
     "metadata": {},
     "output_type": "execute_result"
    }
   ],
   "source": [
    "# Rechecking the dimenion of our data\n",
    "\n",
    "df.shape"
   ]
  },
  {
   "cell_type": "code",
   "execution_count": 55,
   "id": "8080a983",
   "metadata": {},
   "outputs": [
    {
     "data": {
      "text/plain": [
       "(22, 9)"
      ]
     },
     "execution_count": 55,
     "metadata": {},
     "output_type": "execute_result"
    }
   ],
   "source": [
    "df[df['fare_amount']<= 0].shape"
   ]
  },
  {
   "cell_type": "markdown",
   "id": "8fa79783",
   "metadata": {},
   "source": [
    "## EDA"
   ]
  },
  {
   "cell_type": "code",
   "execution_count": 56,
   "id": "aa78dbd2",
   "metadata": {},
   "outputs": [
    {
     "data": {
      "text/plain": [
       "(0.0, 5000.0)"
      ]
     },
     "execution_count": 56,
     "metadata": {},
     "output_type": "execute_result"
    },
    {
     "data": {
      "image/png": "[encoded data removed]",
      "text/plain": [
       "<Figure size 432x288 with 1 Axes>"
      ]
     },
     "metadata": {
      "needs_background": "light"
     },
     "output_type": "display_data"
    }
   ],
   "source": [
    "# Plot to check the fare distribution of rides\n",
    "\n",
    "sns.histplot(df['fare_amount'],kde=True)\n",
    "plt.ylim(0,5000)"
   ]
  },
  {
   "cell_type": "markdown",
   "id": "6f6c4647",
   "metadata": {},
   "source": [
    "From the graph above we can say that there are more than 4800 Entries which have fare amount between 0-50<br>\n",
    "17 records have negative or zero fare amount. So, we can drop these records"
   ]
  },
  {
   "cell_type": "code",
   "execution_count": 57,
   "id": "32fc3239",
   "metadata": {},
   "outputs": [],
   "source": [
    "df_fare_delete = df[df['fare_amount']<=0]\n",
    "index_to_delete_fare = df_fare_delete.index\n",
    "df.drop(index_to_delete_fare,inplace=True)"
   ]
  },
  {
   "cell_type": "code",
   "execution_count": 58,
   "id": "403ce933",
   "metadata": {},
   "outputs": [
    {
     "data": {
      "text/plain": [
       "(199964, 9)"
      ]
     },
     "execution_count": 58,
     "metadata": {},
     "output_type": "execute_result"
    }
   ],
   "source": [
    "df.shape"
   ]
  },
  {
   "cell_type": "code",
   "execution_count": 59,
   "id": "4f93c217",
   "metadata": {},
   "outputs": [
    {
     "data": {
      "text/html": [
       "<div>\n",
       "<style scoped>\n",
       "    .dataframe tbody tr th:only-of-type {\n",
       "        vertical-align: middle;\n",
       "    }\n",
       "\n",
       "    .dataframe tbody tr th {\n",
       "        vertical-align: top;\n",
       "    }\n",
       "\n",
       "    .dataframe thead th {\n",
       "        text-align: right;\n",
       "    }\n",
       "</style>\n",
       "<table border=\"1\" class=\"dataframe\">\n",
       "  <thead>\n",
       "    <tr style=\"text-align: right;\">\n",
       "      <th></th>\n",
       "      <th>Unnamed: 0</th>\n",
       "      <th>fare_amount</th>\n",
       "      <th>pickup_longitude</th>\n",
       "      <th>pickup_latitude</th>\n",
       "      <th>dropoff_longitude</th>\n",
       "      <th>dropoff_latitude</th>\n",
       "      <th>passenger_count</th>\n",
       "    </tr>\n",
       "  </thead>\n",
       "  <tbody>\n",
       "    <tr>\n",
       "      <th>count</th>\n",
       "      <td>1.999640e+05</td>\n",
       "      <td>199964.000000</td>\n",
       "      <td>199964.000000</td>\n",
       "      <td>199964.000000</td>\n",
       "      <td>199964.000000</td>\n",
       "      <td>199964.000000</td>\n",
       "      <td>199964.000000</td>\n",
       "    </tr>\n",
       "    <tr>\n",
       "      <th>mean</th>\n",
       "      <td>2.771260e+07</td>\n",
       "      <td>11.362560</td>\n",
       "      <td>-72.501889</td>\n",
       "      <td>39.918031</td>\n",
       "      <td>-72.512649</td>\n",
       "      <td>39.922574</td>\n",
       "      <td>1.684493</td>\n",
       "    </tr>\n",
       "    <tr>\n",
       "      <th>std</th>\n",
       "      <td>1.601405e+07</td>\n",
       "      <td>9.897193</td>\n",
       "      <td>10.449179</td>\n",
       "      <td>6.130103</td>\n",
       "      <td>10.408913</td>\n",
       "      <td>6.116051</td>\n",
       "      <td>1.385979</td>\n",
       "    </tr>\n",
       "    <tr>\n",
       "      <th>min</th>\n",
       "      <td>1.000000e+00</td>\n",
       "      <td>0.010000</td>\n",
       "      <td>-89.933333</td>\n",
       "      <td>-74.015515</td>\n",
       "      <td>-75.458979</td>\n",
       "      <td>-74.015750</td>\n",
       "      <td>0.000000</td>\n",
       "    </tr>\n",
       "    <tr>\n",
       "      <th>25%</th>\n",
       "      <td>1.382528e+07</td>\n",
       "      <td>6.000000</td>\n",
       "      <td>-73.992064</td>\n",
       "      <td>40.734792</td>\n",
       "      <td>-73.991407</td>\n",
       "      <td>40.733825</td>\n",
       "      <td>1.000000</td>\n",
       "    </tr>\n",
       "    <tr>\n",
       "      <th>50%</th>\n",
       "      <td>2.774550e+07</td>\n",
       "      <td>8.500000</td>\n",
       "      <td>-73.981822</td>\n",
       "      <td>40.752590</td>\n",
       "      <td>-73.980092</td>\n",
       "      <td>40.753042</td>\n",
       "      <td>1.000000</td>\n",
       "    </tr>\n",
       "    <tr>\n",
       "      <th>75%</th>\n",
       "      <td>4.155571e+07</td>\n",
       "      <td>12.500000</td>\n",
       "      <td>-73.967155</td>\n",
       "      <td>40.767157</td>\n",
       "      <td>-73.963659</td>\n",
       "      <td>40.768000</td>\n",
       "      <td>2.000000</td>\n",
       "    </tr>\n",
       "    <tr>\n",
       "      <th>max</th>\n",
       "      <td>5.542357e+07</td>\n",
       "      <td>499.000000</td>\n",
       "      <td>40.808425</td>\n",
       "      <td>48.018760</td>\n",
       "      <td>40.831932</td>\n",
       "      <td>45.031598</td>\n",
       "      <td>208.000000</td>\n",
       "    </tr>\n",
       "  </tbody>\n",
       "</table>\n",
       "</div>"
      ],
      "text/plain": [
       "         Unnamed: 0    fare_amount  pickup_longitude  pickup_latitude  \\\n",
       "count  1.999640e+05  199964.000000     199964.000000    199964.000000   \n",
       "mean   2.771260e+07      11.362560        -72.501889        39.918031   \n",
       "std    1.601405e+07       9.897193         10.449179         6.130103   \n",
       "min    1.000000e+00       0.010000        -89.933333       -74.015515   \n",
       "25%    1.382528e+07       6.000000        -73.992064        40.734792   \n",
       "50%    2.774550e+07       8.500000        -73.981822        40.752590   \n",
       "75%    4.155571e+07      12.500000        -73.967155        40.767157   \n",
       "max    5.542357e+07     499.000000         40.808425        48.018760   \n",
       "\n",
       "       dropoff_longitude  dropoff_latitude  passenger_count  \n",
       "count      199964.000000     199964.000000    199964.000000  \n",
       "mean          -72.512649         39.922574         1.684493  \n",
       "std            10.408913          6.116051         1.385979  \n",
       "min           -75.458979        -74.015750         0.000000  \n",
       "25%           -73.991407         40.733825         1.000000  \n",
       "50%           -73.980092         40.753042         1.000000  \n",
       "75%           -73.963659         40.768000         2.000000  \n",
       "max            40.831932         45.031598       208.000000  "
      ]
     },
     "execution_count": 59,
     "metadata": {},
     "output_type": "execute_result"
    }
   ],
   "source": [
    "df.describe()"
   ]
  },
  {
   "cell_type": "markdown",
   "id": "359d88e8",
   "metadata": {},
   "source": [
    "Maximum fare can be analyzed later when distance covered during ride will be calculated"
   ]
  },
  {
   "cell_type": "code",
   "execution_count": 60,
   "id": "9eef0d53",
   "metadata": {},
   "outputs": [
    {
     "data": {
      "text/plain": [
       "1      138404\n",
       "2       29423\n",
       "5       14004\n",
       "3        8878\n",
       "4        4275\n",
       "6        4271\n",
       "0         708\n",
       "208         1\n",
       "Name: passenger_count, dtype: int64"
      ]
     },
     "execution_count": 60,
     "metadata": {},
     "output_type": "execute_result"
    }
   ],
   "source": [
    "df['passenger_count'].value_counts()"
   ]
  },
  {
   "cell_type": "markdown",
   "id": "1a81b192",
   "metadata": {},
   "source": [
    "Only 1 ride contains passenger count as 208, may be wrong data. It can be dropped.<br>\n",
    "Around 700 rides show no passenger. It can be replaced with 1."
   ]
  },
  {
   "cell_type": "code",
   "execution_count": 61,
   "id": "918a6dc1",
   "metadata": {},
   "outputs": [],
   "source": [
    "index_to_delete_passenger = df[df['passenger_count']==df['passenger_count'].max()].index\n",
    "df.drop(index_to_delete_passenger,inplace=True)"
   ]
  },
  {
   "cell_type": "code",
   "execution_count": 62,
   "id": "5be258c3",
   "metadata": {},
   "outputs": [
    {
     "data": {
      "text/plain": [
       "<AxesSubplot:xlabel='passenger_count', ylabel='count'>"
      ]
     },
     "execution_count": 62,
     "metadata": {},
     "output_type": "execute_result"
    },
    {
     "data": {
      "image/png": "[encoded data removed]",
      "text/plain": [
       "<Figure size 432x288 with 1 Axes>"
      ]
     },
     "metadata": {
      "needs_background": "light"
     },
     "output_type": "display_data"
    }
   ],
   "source": [
    "sns.countplot(data = df,x = 'passenger_count')"
   ]
  },
  {
   "cell_type": "code",
   "execution_count": 63,
   "id": "5b6dc6f3",
   "metadata": {},
   "outputs": [
    {
     "data": {
      "text/plain": [
       "(199963, 9)"
      ]
     },
     "execution_count": 63,
     "metadata": {},
     "output_type": "execute_result"
    }
   ],
   "source": [
    "df.shape"
   ]
  },
  {
   "cell_type": "code",
   "execution_count": 65,
   "id": "74bf5d53",
   "metadata": {},
   "outputs": [],
   "source": [
    "df['passenger_count'] = np.where(df['passenger_count']==0,1,df['passenger_count'])"
   ]
  },
  {
   "cell_type": "code",
   "execution_count": 66,
   "id": "1e2d5d22",
   "metadata": {},
   "outputs": [
    {
     "data": {
      "text/plain": [
       "1    139112\n",
       "2     29423\n",
       "5     14004\n",
       "3      8878\n",
       "4      4275\n",
       "6      4271\n",
       "Name: passenger_count, dtype: int64"
      ]
     },
     "execution_count": 66,
     "metadata": {},
     "output_type": "execute_result"
    }
   ],
   "source": [
    "df['passenger_count'].value_counts()"
   ]
  },
  {
   "cell_type": "code",
   "execution_count": 68,
   "id": "4129bc3d",
   "metadata": {},
   "outputs": [
    {
     "data": {
      "text/plain": [
       "<AxesSubplot:xlabel='passenger_count', ylabel='count'>"
      ]
     },
     "execution_count": 68,
     "metadata": {},
     "output_type": "execute_result"
    },
    {
     "data": {
      "image/png": "[encoded data removed]",
      "text/plain": [
       "<Figure size 432x288 with 1 Axes>"
      ]
     },
     "metadata": {
      "needs_background": "light"
     },
     "output_type": "display_data"
    }
   ],
   "source": [
    "sns.countplot(data = df,x = 'passenger_count')"
   ]
  },
  {
   "cell_type": "markdown",
   "id": "c34ed564",
   "metadata": {},
   "source": [
    "Here we calculate geodesic distance as it is the shortest distance on the surface of an ellipsoidal model of the earth."
   ]
  },
  {
   "cell_type": "code",
   "execution_count": 70,
   "id": "2d95b88a",
   "metadata": {},
   "outputs": [],
   "source": [
    "df['pickup_location'] = tuple(zip(df['pickup_longitude'],df['pickup_latitude']))\n",
    "df['dropoff_location'] = tuple(zip(df['dropoff_longitude'],df['dropoff_latitude']))"
   ]
  },
  {
   "cell_type": "code",
   "execution_count": 74,
   "id": "29fc6f66",
   "metadata": {},
   "outputs": [],
   "source": [
    "from geopy import distance\n",
    "df['distance_travelled'] = df.apply(lambda row: distance.distance(row['pickup_location'], row['dropoff_location']).km,axis=1)"
   ]
  },
  {
   "cell_type": "markdown",
   "id": "9d6426d3",
   "metadata": {},
   "source": [
    "If we donot use .km then distance values come with km written that takes it as object"
   ]
  },
  {
   "cell_type": "code",
   "execution_count": 75,
   "id": "fa27c048",
   "metadata": {},
   "outputs": [],
   "source": [
    "df['distance_travelled'] = df.distance_travelled.round(2)"
   ]
  },
  {
   "cell_type": "code",
   "execution_count": 76,
   "id": "bf04caa5",
   "metadata": {},
   "outputs": [
    {
     "data": {
      "text/html": [
       "<div>\n",
       "<style scoped>\n",
       "    .dataframe tbody tr th:only-of-type {\n",
       "        vertical-align: middle;\n",
       "    }\n",
       "\n",
       "    .dataframe tbody tr th {\n",
       "        vertical-align: top;\n",
       "    }\n",
       "\n",
       "    .dataframe thead th {\n",
       "        text-align: right;\n",
       "    }\n",
       "</style>\n",
       "<table border=\"1\" class=\"dataframe\">\n",
       "  <thead>\n",
       "    <tr style=\"text-align: right;\">\n",
       "      <th></th>\n",
       "      <th>Unnamed: 0</th>\n",
       "      <th>key</th>\n",
       "      <th>fare_amount</th>\n",
       "      <th>pickup_datetime</th>\n",
       "      <th>pickup_longitude</th>\n",
       "      <th>pickup_latitude</th>\n",
       "      <th>dropoff_longitude</th>\n",
       "      <th>dropoff_latitude</th>\n",
       "      <th>passenger_count</th>\n",
       "      <th>pickup_location</th>\n",
       "      <th>dropoff_location</th>\n",
       "      <th>distance_travelled</th>\n",
       "    </tr>\n",
       "  </thead>\n",
       "  <tbody>\n",
       "    <tr>\n",
       "      <th>0</th>\n",
       "      <td>24238194</td>\n",
       "      <td>2015-05-07 19:52:06.0000003</td>\n",
       "      <td>7.5</td>\n",
       "      <td>2015-05-07 19:52:06+00:00</td>\n",
       "      <td>-73.999817</td>\n",
       "      <td>40.738354</td>\n",
       "      <td>-73.999512</td>\n",
       "      <td>40.723217</td>\n",
       "      <td>1</td>\n",
       "      <td>(-73.99981689453125, 40.73835372924805)</td>\n",
       "      <td>(-73.99951171875, 40.72321701049805)</td>\n",
       "      <td>0.47</td>\n",
       "    </tr>\n",
       "    <tr>\n",
       "      <th>1</th>\n",
       "      <td>27835199</td>\n",
       "      <td>2009-07-17 20:04:56.0000002</td>\n",
       "      <td>7.7</td>\n",
       "      <td>2009-07-17 20:04:56+00:00</td>\n",
       "      <td>-73.994355</td>\n",
       "      <td>40.728225</td>\n",
       "      <td>-73.994710</td>\n",
       "      <td>40.750325</td>\n",
       "      <td>1</td>\n",
       "      <td>(-73.994355, 40.728225)</td>\n",
       "      <td>(-73.99471, 40.750325)</td>\n",
       "      <td>0.68</td>\n",
       "    </tr>\n",
       "    <tr>\n",
       "      <th>2</th>\n",
       "      <td>44984355</td>\n",
       "      <td>2009-08-24 21:45:00.00000061</td>\n",
       "      <td>12.9</td>\n",
       "      <td>2009-08-24 21:45:00+00:00</td>\n",
       "      <td>-74.005043</td>\n",
       "      <td>40.740770</td>\n",
       "      <td>-73.962565</td>\n",
       "      <td>40.772647</td>\n",
       "      <td>1</td>\n",
       "      <td>(-74.005043, 40.74077)</td>\n",
       "      <td>(-73.962565, 40.772647)</td>\n",
       "      <td>4.84</td>\n",
       "    </tr>\n",
       "    <tr>\n",
       "      <th>3</th>\n",
       "      <td>25894730</td>\n",
       "      <td>2009-06-26 08:22:21.0000001</td>\n",
       "      <td>5.3</td>\n",
       "      <td>2009-06-26 08:22:21+00:00</td>\n",
       "      <td>-73.976124</td>\n",
       "      <td>40.790844</td>\n",
       "      <td>-73.965316</td>\n",
       "      <td>40.803349</td>\n",
       "      <td>3</td>\n",
       "      <td>(-73.976124, 40.790844)</td>\n",
       "      <td>(-73.965316, 40.803349)</td>\n",
       "      <td>1.27</td>\n",
       "    </tr>\n",
       "    <tr>\n",
       "      <th>4</th>\n",
       "      <td>17610152</td>\n",
       "      <td>2014-08-28 17:47:00.000000188</td>\n",
       "      <td>16.0</td>\n",
       "      <td>2014-08-28 17:47:00+00:00</td>\n",
       "      <td>-73.925023</td>\n",
       "      <td>40.744085</td>\n",
       "      <td>-73.973082</td>\n",
       "      <td>40.761247</td>\n",
       "      <td>5</td>\n",
       "      <td>(-73.925023, 40.744085)</td>\n",
       "      <td>(-73.97308199999999, 40.761247)</td>\n",
       "      <td>5.39</td>\n",
       "    </tr>\n",
       "  </tbody>\n",
       "</table>\n",
       "</div>"
      ],
      "text/plain": [
       "   Unnamed: 0                            key  fare_amount  \\\n",
       "0    24238194    2015-05-07 19:52:06.0000003          7.5   \n",
       "1    27835199    2009-07-17 20:04:56.0000002          7.7   \n",
       "2    44984355   2009-08-24 21:45:00.00000061         12.9   \n",
       "3    25894730    2009-06-26 08:22:21.0000001          5.3   \n",
       "4    17610152  2014-08-28 17:47:00.000000188         16.0   \n",
       "\n",
       "            pickup_datetime  pickup_longitude  pickup_latitude  \\\n",
       "0 2015-05-07 19:52:06+00:00        -73.999817        40.738354   \n",
       "1 2009-07-17 20:04:56+00:00        -73.994355        40.728225   \n",
       "2 2009-08-24 21:45:00+00:00        -74.005043        40.740770   \n",
       "3 2009-06-26 08:22:21+00:00        -73.976124        40.790844   \n",
       "4 2014-08-28 17:47:00+00:00        -73.925023        40.744085   \n",
       "\n",
       "   dropoff_longitude  dropoff_latitude  passenger_count  \\\n",
       "0         -73.999512         40.723217                1   \n",
       "1         -73.994710         40.750325                1   \n",
       "2         -73.962565         40.772647                1   \n",
       "3         -73.965316         40.803349                3   \n",
       "4         -73.973082         40.761247                5   \n",
       "\n",
       "                           pickup_location  \\\n",
       "0  (-73.99981689453125, 40.73835372924805)   \n",
       "1                  (-73.994355, 40.728225)   \n",
       "2                   (-74.005043, 40.74077)   \n",
       "3                  (-73.976124, 40.790844)   \n",
       "4                  (-73.925023, 40.744085)   \n",
       "\n",
       "                       dropoff_location  distance_travelled  \n",
       "0  (-73.99951171875, 40.72321701049805)                0.47  \n",
       "1                (-73.99471, 40.750325)                0.68  \n",
       "2               (-73.962565, 40.772647)                4.84  \n",
       "3               (-73.965316, 40.803349)                1.27  \n",
       "4       (-73.97308199999999, 40.761247)                5.39  "
      ]
     },
     "execution_count": 76,
     "metadata": {},
     "output_type": "execute_result"
    }
   ],
   "source": [
    "df.head()"
   ]
  },
  {
   "cell_type": "code",
   "execution_count": 77,
   "id": "2ecb9a02",
   "metadata": {},
   "outputs": [
    {
     "data": {
      "text/plain": [
       "(6035, 12)"
      ]
     },
     "execution_count": 77,
     "metadata": {},
     "output_type": "execute_result"
    }
   ],
   "source": [
    "df[df['distance_travelled']==0].shape"
   ]
  },
  {
   "cell_type": "code",
   "execution_count": 79,
   "id": "ea873297",
   "metadata": {},
   "outputs": [],
   "source": [
    "index_to_delete_distance = df[df['distance_travelled']==0].index\n",
    "df.drop(index_to_delete_distance,inplace=True)"
   ]
  },
  {
   "cell_type": "code",
   "execution_count": 80,
   "id": "bcbfe3b8",
   "metadata": {},
   "outputs": [
    {
     "data": {
      "text/plain": [
       "(193928, 12)"
      ]
     },
     "execution_count": 80,
     "metadata": {},
     "output_type": "execute_result"
    }
   ],
   "source": [
    "df.shape"
   ]
  },
  {
   "cell_type": "code",
   "execution_count": 82,
   "id": "041b679c",
   "metadata": {},
   "outputs": [
    {
     "data": {
      "text/html": [
       "<div>\n",
       "<style scoped>\n",
       "    .dataframe tbody tr th:only-of-type {\n",
       "        vertical-align: middle;\n",
       "    }\n",
       "\n",
       "    .dataframe tbody tr th {\n",
       "        vertical-align: top;\n",
       "    }\n",
       "\n",
       "    .dataframe thead th {\n",
       "        text-align: right;\n",
       "    }\n",
       "</style>\n",
       "<table border=\"1\" class=\"dataframe\">\n",
       "  <thead>\n",
       "    <tr style=\"text-align: right;\">\n",
       "      <th></th>\n",
       "      <th>Unnamed: 0</th>\n",
       "      <th>key</th>\n",
       "      <th>fare_amount</th>\n",
       "      <th>pickup_datetime</th>\n",
       "      <th>pickup_longitude</th>\n",
       "      <th>pickup_latitude</th>\n",
       "      <th>dropoff_longitude</th>\n",
       "      <th>dropoff_latitude</th>\n",
       "      <th>passenger_count</th>\n",
       "      <th>pickup_location</th>\n",
       "      <th>dropoff_location</th>\n",
       "      <th>distance_travelled</th>\n",
       "    </tr>\n",
       "  </thead>\n",
       "  <tbody>\n",
       "    <tr>\n",
       "      <th>346</th>\n",
       "      <td>25741482</td>\n",
       "      <td>2015-03-05 19:15:07.0000001</td>\n",
       "      <td>15.50</td>\n",
       "      <td>2015-03-05 19:15:07+00:00</td>\n",
       "      <td>0.000000</td>\n",
       "      <td>0.000000</td>\n",
       "      <td>-73.979805</td>\n",
       "      <td>40.786030</td>\n",
       "      <td>1</td>\n",
       "      <td>(0.0, 0.0)</td>\n",
       "      <td>(-73.97980499267578, 40.78602981567383)</td>\n",
       "      <td>8655.72</td>\n",
       "    </tr>\n",
       "    <tr>\n",
       "      <th>1067</th>\n",
       "      <td>10614181</td>\n",
       "      <td>2014-02-02 22:27:00.000000234</td>\n",
       "      <td>52.00</td>\n",
       "      <td>2014-02-02 22:27:00+00:00</td>\n",
       "      <td>-73.781095</td>\n",
       "      <td>40.645015</td>\n",
       "      <td>0.000000</td>\n",
       "      <td>0.000000</td>\n",
       "      <td>1</td>\n",
       "      <td>(-73.781095, 40.645015)</td>\n",
       "      <td>(0.0, 0.0)</td>\n",
       "      <td>8636.30</td>\n",
       "    </tr>\n",
       "    <tr>\n",
       "      <th>1526</th>\n",
       "      <td>16419344</td>\n",
       "      <td>2014-05-12 12:00:15.0000002</td>\n",
       "      <td>2.50</td>\n",
       "      <td>2014-05-12 12:00:15+00:00</td>\n",
       "      <td>-74.001849</td>\n",
       "      <td>40.715156</td>\n",
       "      <td>0.000000</td>\n",
       "      <td>0.000000</td>\n",
       "      <td>3</td>\n",
       "      <td>(-74.00184899999999, 40.715156)</td>\n",
       "      <td>(0.0, 0.0)</td>\n",
       "      <td>8656.09</td>\n",
       "    </tr>\n",
       "    <tr>\n",
       "      <th>2547</th>\n",
       "      <td>1227592</td>\n",
       "      <td>2011-09-20 21:08:00.00000037</td>\n",
       "      <td>10.10</td>\n",
       "      <td>2011-09-20 21:08:00+00:00</td>\n",
       "      <td>0.000000</td>\n",
       "      <td>0.000000</td>\n",
       "      <td>-73.953210</td>\n",
       "      <td>40.803528</td>\n",
       "      <td>2</td>\n",
       "      <td>(0.0, 0.0)</td>\n",
       "      <td>(-73.95321, 40.803528)</td>\n",
       "      <td>8653.88</td>\n",
       "    </tr>\n",
       "    <tr>\n",
       "      <th>3045</th>\n",
       "      <td>2267128</td>\n",
       "      <td>2013-03-26 02:25:17.0000001</td>\n",
       "      <td>15.00</td>\n",
       "      <td>2013-03-26 02:25:17+00:00</td>\n",
       "      <td>0.000000</td>\n",
       "      <td>0.000000</td>\n",
       "      <td>-73.843777</td>\n",
       "      <td>40.739255</td>\n",
       "      <td>1</td>\n",
       "      <td>(0.0, 0.0)</td>\n",
       "      <td>(-73.843777, 40.739255)</td>\n",
       "      <td>8643.46</td>\n",
       "    </tr>\n",
       "    <tr>\n",
       "      <th>...</th>\n",
       "      <td>...</td>\n",
       "      <td>...</td>\n",
       "      <td>...</td>\n",
       "      <td>...</td>\n",
       "      <td>...</td>\n",
       "      <td>...</td>\n",
       "      <td>...</td>\n",
       "      <td>...</td>\n",
       "      <td>...</td>\n",
       "      <td>...</td>\n",
       "      <td>...</td>\n",
       "      <td>...</td>\n",
       "    </tr>\n",
       "    <tr>\n",
       "      <th>196967</th>\n",
       "      <td>35583841</td>\n",
       "      <td>2014-09-17 09:40:30.0000003</td>\n",
       "      <td>57.33</td>\n",
       "      <td>2014-09-17 09:40:30+00:00</td>\n",
       "      <td>0.000000</td>\n",
       "      <td>0.000000</td>\n",
       "      <td>-73.789045</td>\n",
       "      <td>40.655135</td>\n",
       "      <td>2</td>\n",
       "      <td>(0.0, 0.0)</td>\n",
       "      <td>(-73.789045, 40.655135)</td>\n",
       "      <td>8637.17</td>\n",
       "    </tr>\n",
       "    <tr>\n",
       "      <th>197468</th>\n",
       "      <td>45145191</td>\n",
       "      <td>2011-02-23 19:42:00.000000141</td>\n",
       "      <td>6.90</td>\n",
       "      <td>2011-02-23 19:42:00+00:00</td>\n",
       "      <td>0.000000</td>\n",
       "      <td>0.000000</td>\n",
       "      <td>-73.980827</td>\n",
       "      <td>40.747133</td>\n",
       "      <td>5</td>\n",
       "      <td>(0.0, 0.0)</td>\n",
       "      <td>(-73.980827, 40.747133000000005)</td>\n",
       "      <td>8655.01</td>\n",
       "    </tr>\n",
       "    <tr>\n",
       "      <th>197863</th>\n",
       "      <td>54381864</td>\n",
       "      <td>2014-11-18 22:10:03.0000001</td>\n",
       "      <td>7.00</td>\n",
       "      <td>2014-11-18 22:10:03+00:00</td>\n",
       "      <td>-73.962190</td>\n",
       "      <td>40.759158</td>\n",
       "      <td>0.000000</td>\n",
       "      <td>0.000000</td>\n",
       "      <td>1</td>\n",
       "      <td>(-73.96219, 40.759158)</td>\n",
       "      <td>(0.0, 0.0)</td>\n",
       "      <td>8653.71</td>\n",
       "    </tr>\n",
       "    <tr>\n",
       "      <th>198567</th>\n",
       "      <td>29279997</td>\n",
       "      <td>2013-10-21 01:28:00.00000010</td>\n",
       "      <td>23.50</td>\n",
       "      <td>2013-10-21 01:28:00+00:00</td>\n",
       "      <td>-73.968115</td>\n",
       "      <td>40.801455</td>\n",
       "      <td>0.000000</td>\n",
       "      <td>0.000000</td>\n",
       "      <td>2</td>\n",
       "      <td>(-73.968115, 40.801455)</td>\n",
       "      <td>(0.0, 0.0)</td>\n",
       "      <td>8655.07</td>\n",
       "    </tr>\n",
       "    <tr>\n",
       "      <th>198665</th>\n",
       "      <td>35767571</td>\n",
       "      <td>2012-06-26 21:29:00.000000123</td>\n",
       "      <td>20.10</td>\n",
       "      <td>2012-06-26 21:29:00+00:00</td>\n",
       "      <td>-0.116667</td>\n",
       "      <td>40.729775</td>\n",
       "      <td>0.000000</td>\n",
       "      <td>0.000000</td>\n",
       "      <td>5</td>\n",
       "      <td>(-0.116667, 40.729775)</td>\n",
       "      <td>(0.0, 0.0)</td>\n",
       "      <td>4534.03</td>\n",
       "    </tr>\n",
       "  </tbody>\n",
       "</table>\n",
       "<p>379 rows × 12 columns</p>\n",
       "</div>"
      ],
      "text/plain": [
       "        Unnamed: 0                            key  fare_amount  \\\n",
       "346       25741482    2015-03-05 19:15:07.0000001        15.50   \n",
       "1067      10614181  2014-02-02 22:27:00.000000234        52.00   \n",
       "1526      16419344    2014-05-12 12:00:15.0000002         2.50   \n",
       "2547       1227592   2011-09-20 21:08:00.00000037        10.10   \n",
       "3045       2267128    2013-03-26 02:25:17.0000001        15.00   \n",
       "...            ...                            ...          ...   \n",
       "196967    35583841    2014-09-17 09:40:30.0000003        57.33   \n",
       "197468    45145191  2011-02-23 19:42:00.000000141         6.90   \n",
       "197863    54381864    2014-11-18 22:10:03.0000001         7.00   \n",
       "198567    29279997   2013-10-21 01:28:00.00000010        23.50   \n",
       "198665    35767571  2012-06-26 21:29:00.000000123        20.10   \n",
       "\n",
       "                 pickup_datetime  pickup_longitude  pickup_latitude  \\\n",
       "346    2015-03-05 19:15:07+00:00          0.000000         0.000000   \n",
       "1067   2014-02-02 22:27:00+00:00        -73.781095        40.645015   \n",
       "1526   2014-05-12 12:00:15+00:00        -74.001849        40.715156   \n",
       "2547   2011-09-20 21:08:00+00:00          0.000000         0.000000   \n",
       "3045   2013-03-26 02:25:17+00:00          0.000000         0.000000   \n",
       "...                          ...               ...              ...   \n",
       "196967 2014-09-17 09:40:30+00:00          0.000000         0.000000   \n",
       "197468 2011-02-23 19:42:00+00:00          0.000000         0.000000   \n",
       "197863 2014-11-18 22:10:03+00:00        -73.962190        40.759158   \n",
       "198567 2013-10-21 01:28:00+00:00        -73.968115        40.801455   \n",
       "198665 2012-06-26 21:29:00+00:00         -0.116667        40.729775   \n",
       "\n",
       "        dropoff_longitude  dropoff_latitude  passenger_count  \\\n",
       "346            -73.979805         40.786030                1   \n",
       "1067             0.000000          0.000000                1   \n",
       "1526             0.000000          0.000000                3   \n",
       "2547           -73.953210         40.803528                2   \n",
       "3045           -73.843777         40.739255                1   \n",
       "...                   ...               ...              ...   \n",
       "196967         -73.789045         40.655135                2   \n",
       "197468         -73.980827         40.747133                5   \n",
       "197863           0.000000          0.000000                1   \n",
       "198567           0.000000          0.000000                2   \n",
       "198665           0.000000          0.000000                5   \n",
       "\n",
       "                        pickup_location  \\\n",
       "346                          (0.0, 0.0)   \n",
       "1067            (-73.781095, 40.645015)   \n",
       "1526    (-74.00184899999999, 40.715156)   \n",
       "2547                         (0.0, 0.0)   \n",
       "3045                         (0.0, 0.0)   \n",
       "...                                 ...   \n",
       "196967                       (0.0, 0.0)   \n",
       "197468                       (0.0, 0.0)   \n",
       "197863           (-73.96219, 40.759158)   \n",
       "198567          (-73.968115, 40.801455)   \n",
       "198665           (-0.116667, 40.729775)   \n",
       "\n",
       "                               dropoff_location  distance_travelled  \n",
       "346     (-73.97980499267578, 40.78602981567383)             8655.72  \n",
       "1067                                 (0.0, 0.0)             8636.30  \n",
       "1526                                 (0.0, 0.0)             8656.09  \n",
       "2547                     (-73.95321, 40.803528)             8653.88  \n",
       "3045                    (-73.843777, 40.739255)             8643.46  \n",
       "...                                         ...                 ...  \n",
       "196967                  (-73.789045, 40.655135)             8637.17  \n",
       "197468         (-73.980827, 40.747133000000005)             8655.01  \n",
       "197863                               (0.0, 0.0)             8653.71  \n",
       "198567                               (0.0, 0.0)             8655.07  \n",
       "198665                               (0.0, 0.0)             4534.03  \n",
       "\n",
       "[379 rows x 12 columns]"
      ]
     },
     "execution_count": 82,
     "metadata": {},
     "output_type": "execute_result"
    }
   ],
   "source": [
    "df_delete_lat_long = df[(df['pickup_longitude']==0) | (df['pickup_latitude']==0) | (df['dropoff_longitude']==0) | (df['dropoff_latitude']==0) ]\n",
    "df_delete_lat_long"
   ]
  },
  {
   "cell_type": "markdown",
   "id": "85aaa4ea",
   "metadata": {},
   "source": [
    "As the above rows show some inconsistent data (as the latitude and longitude values for pickup and dropoff locations are all zeros which is the location in South Atlantic Ocean), we have dropped these rows."
   ]
  },
  {
   "cell_type": "code",
   "execution_count": 83,
   "id": "57299320",
   "metadata": {},
   "outputs": [],
   "source": [
    "index_to_delete_lat_long = df[(df['pickup_longitude']==0) | (df['pickup_latitude']==0) | (df['dropoff_longitude']==0) | (df['dropoff_latitude']==0) ].index\n",
    "\n",
    "df.drop(index_to_delete_lat_long,inplace=True)"
   ]
  },
  {
   "cell_type": "code",
   "execution_count": 84,
   "id": "467f7142",
   "metadata": {},
   "outputs": [
    {
     "data": {
      "text/plain": [
       "(193549, 12)"
      ]
     },
     "execution_count": 84,
     "metadata": {},
     "output_type": "execute_result"
    }
   ],
   "source": [
    "df.shape"
   ]
  },
  {
   "cell_type": "markdown",
   "id": "64cc6c7b",
   "metadata": {},
   "source": [
    "## Outliers Detection and Removal"
   ]
  },
  {
   "cell_type": "code",
   "execution_count": 85,
   "id": "3e803215",
   "metadata": {},
   "outputs": [
    {
     "data": {
      "text/plain": [
       "<matplotlib.collections.PathCollection at 0x7fe735c84130>"
      ]
     },
     "execution_count": 85,
     "metadata": {},
     "output_type": "execute_result"
    },
    {
     "data": {
      "image/png": "[encoded data removed]",
      "text/plain": [
       "<Figure size 432x288 with 1 Axes>"
      ]
     },
     "metadata": {
      "needs_background": "light"
     },
     "output_type": "display_data"
    }
   ],
   "source": [
    "plt.scatter(data = df,x='distance_travelled',y='fare_amount')"
   ]
  },
  {
   "cell_type": "code",
   "execution_count": 86,
   "id": "2a7a267b",
   "metadata": {},
   "outputs": [
    {
     "name": "stdout",
     "output_type": "stream",
     "text": [
      "FARE_AMOUNT\n",
      "Upper Whisker 22.25\n",
      "Lower Whisker -3.75\n",
      "************************************\n",
      "DISTANCE_TRAVELLED\n",
      "Upper Whisker 5.855\n",
      "Lower Whisker -2.1050000000000004\n",
      "************************************\n"
     ]
    }
   ],
   "source": [
    "for feature in ['fare_amount','distance_travelled']:\n",
    "\n",
    "    q1 = df[feature].quantile(0.25)\n",
    "    q3 = df[feature].quantile(0.75)\n",
    "    iqr = q3-q1\n",
    "    upper_whisker = q3+1.5*iqr\n",
    "    lower_whisker = q1-1.5*iqr\n",
    "    print(str.upper(feature))\n",
    "    print('Upper Whisker',upper_whisker)\n",
    "    print('Lower Whisker',lower_whisker)\n",
    "    print('************************************')"
   ]
  },
  {
   "cell_type": "code",
   "execution_count": 87,
   "id": "453b8dc3",
   "metadata": {},
   "outputs": [
    {
     "data": {
      "text/plain": [
       "<AxesSubplot:>"
      ]
     },
     "execution_count": 87,
     "metadata": {},
     "output_type": "execute_result"
    },
    {
     "data": {
      "image/png": "[encoded data removed]",
      "text/plain": [
       "<Figure size 432x288 with 1 Axes>"
      ]
     },
     "metadata": {
      "needs_background": "light"
     },
     "output_type": "display_data"
    }
   ],
   "source": [
    "df[['fare_amount']].boxplot(vert=0)"
   ]
  },
  {
   "cell_type": "code",
   "execution_count": 88,
   "id": "c506a418",
   "metadata": {},
   "outputs": [],
   "source": [
    "for feature in ['fare_amount','distance_travelled']:\n",
    "    q1 = df[feature].quantile(0.25)\n",
    "    q3 = df[feature].quantile(0.75)\n",
    "    iqr = q3-q1\n",
    "    upper_whisker = q3+1.5*iqr\n",
    "    lower_whisker = q1-1.5*iqr\n",
    "    df[feature]=np.where(df[feature]<lower_whisker,lower_whisker,df[feature])\n",
    "    df[feature]=np.where(df[feature]>upper_whisker,upper_whisker,df[feature])"
   ]
  },
  {
   "cell_type": "code",
   "execution_count": 89,
   "id": "b1040d6b",
   "metadata": {},
   "outputs": [
    {
     "data": {
      "text/plain": [
       "<AxesSubplot:>"
      ]
     },
     "execution_count": 89,
     "metadata": {},
     "output_type": "execute_result"
    },
    {
     "data": {
      "image/png": "[encoded data removed]",
      "text/plain": [
       "<Figure size 432x288 with 1 Axes>"
      ]
     },
     "metadata": {
      "needs_background": "light"
     },
     "output_type": "display_data"
    }
   ],
   "source": [
    "df[['fare_amount','distance_travelled']].boxplot(vert=0)"
   ]
  },
  {
   "cell_type": "code",
   "execution_count": 90,
   "id": "25d37120",
   "metadata": {},
   "outputs": [
    {
     "data": {
      "text/plain": [
       "<matplotlib.collections.PathCollection at 0x7fe7336b12e0>"
      ]
     },
     "execution_count": 90,
     "metadata": {},
     "output_type": "execute_result"
    },
    {
     "data": {
      "image/png": "[encoded data removed]",
      "text/plain": [
       "<Figure size 432x288 with 1 Axes>"
      ]
     },
     "metadata": {
      "needs_background": "light"
     },
     "output_type": "display_data"
    }
   ],
   "source": [
    "plt.scatter(data = df,x='distance_travelled',y='fare_amount')"
   ]
  },
  {
   "cell_type": "code",
   "execution_count": 91,
   "id": "7188ccc8",
   "metadata": {},
   "outputs": [],
   "source": [
    "df['year'] = pd.DatetimeIndex(df['pickup_datetime']).year\n",
    "df['month'] = pd.DatetimeIndex(df['pickup_datetime']).month_name()\n",
    "df['day'] = pd.DatetimeIndex(df['pickup_datetime']).day\n",
    "df['week_day'] = pd.DatetimeIndex(df['pickup_datetime']).day_name()\n",
    "df['pickup_time'] = pd.DatetimeIndex(df['pickup_datetime']).time\n",
    "#df_uber['hour'] = pd.DatetimeIndex(df_uber['pickup_datetime']).hour\n",
    "df['period'] = (pd.DatetimeIndex(df['pickup_datetime']).hour % 24 + 4) // 4\n",
    "df['period'].replace({1: 'Late Night',\n",
    "                      2: 'Early Morning',\n",
    "                      3: 'Morning',\n",
    "                      4: 'Noon',\n",
    "                      5: 'Evening',\n",
    "                      6: 'Night'}, inplace=True)\n",
    "df['Quarter'] = pd.DatetimeIndex(df['pickup_datetime']).quarter"
   ]
  },
  {
   "cell_type": "code",
   "execution_count": 92,
   "id": "114c11cf",
   "metadata": {},
   "outputs": [
    {
     "data": {
      "text/html": [
       "<div>\n",
       "<style scoped>\n",
       "    .dataframe tbody tr th:only-of-type {\n",
       "        vertical-align: middle;\n",
       "    }\n",
       "\n",
       "    .dataframe tbody tr th {\n",
       "        vertical-align: top;\n",
       "    }\n",
       "\n",
       "    .dataframe thead th {\n",
       "        text-align: right;\n",
       "    }\n",
       "</style>\n",
       "<table border=\"1\" class=\"dataframe\">\n",
       "  <thead>\n",
       "    <tr style=\"text-align: right;\">\n",
       "      <th></th>\n",
       "      <th>Unnamed: 0</th>\n",
       "      <th>key</th>\n",
       "      <th>fare_amount</th>\n",
       "      <th>pickup_datetime</th>\n",
       "      <th>pickup_longitude</th>\n",
       "      <th>pickup_latitude</th>\n",
       "      <th>dropoff_longitude</th>\n",
       "      <th>dropoff_latitude</th>\n",
       "      <th>passenger_count</th>\n",
       "      <th>pickup_location</th>\n",
       "      <th>dropoff_location</th>\n",
       "      <th>distance_travelled</th>\n",
       "      <th>year</th>\n",
       "      <th>month</th>\n",
       "      <th>day</th>\n",
       "      <th>week_day</th>\n",
       "      <th>pickup_time</th>\n",
       "      <th>period</th>\n",
       "      <th>Quarter</th>\n",
       "    </tr>\n",
       "  </thead>\n",
       "  <tbody>\n",
       "    <tr>\n",
       "      <th>15855</th>\n",
       "      <td>19164561</td>\n",
       "      <td>2010-05-01 16:58:00.0000008</td>\n",
       "      <td>16.5</td>\n",
       "      <td>2010-05-01 16:58:00+00:00</td>\n",
       "      <td>-73.972627</td>\n",
       "      <td>40.780838</td>\n",
       "      <td>-74.002450</td>\n",
       "      <td>40.728992</td>\n",
       "      <td>1</td>\n",
       "      <td>(-73.972627, 40.780838)</td>\n",
       "      <td>(-74.00245, 40.728992)</td>\n",
       "      <td>3.69</td>\n",
       "      <td>2010</td>\n",
       "      <td>May</td>\n",
       "      <td>1</td>\n",
       "      <td>Saturday</td>\n",
       "      <td>16:58:00</td>\n",
       "      <td>Evening</td>\n",
       "      <td>2</td>\n",
       "    </tr>\n",
       "    <tr>\n",
       "      <th>62924</th>\n",
       "      <td>39126224</td>\n",
       "      <td>2012-02-10 11:04:03.0000002</td>\n",
       "      <td>12.1</td>\n",
       "      <td>2012-02-10 11:04:03+00:00</td>\n",
       "      <td>-73.990570</td>\n",
       "      <td>40.686482</td>\n",
       "      <td>-73.990330</td>\n",
       "      <td>40.730707</td>\n",
       "      <td>1</td>\n",
       "      <td>(-73.99056999999999, 40.686482)</td>\n",
       "      <td>(-73.99033, 40.730707)</td>\n",
       "      <td>1.36</td>\n",
       "      <td>2012</td>\n",
       "      <td>February</td>\n",
       "      <td>10</td>\n",
       "      <td>Friday</td>\n",
       "      <td>11:04:03</td>\n",
       "      <td>Morning</td>\n",
       "      <td>1</td>\n",
       "    </tr>\n",
       "    <tr>\n",
       "      <th>76916</th>\n",
       "      <td>2684105</td>\n",
       "      <td>2015-03-06 13:24:17.0000001</td>\n",
       "      <td>13.5</td>\n",
       "      <td>2015-03-06 13:24:17+00:00</td>\n",
       "      <td>-73.956642</td>\n",
       "      <td>40.775391</td>\n",
       "      <td>-73.971405</td>\n",
       "      <td>40.760975</td>\n",
       "      <td>5</td>\n",
       "      <td>(-73.9566421508789, 40.775390625)</td>\n",
       "      <td>(-73.97140502929686, 40.7609748840332)</td>\n",
       "      <td>1.71</td>\n",
       "      <td>2015</td>\n",
       "      <td>March</td>\n",
       "      <td>6</td>\n",
       "      <td>Friday</td>\n",
       "      <td>13:24:17</td>\n",
       "      <td>Noon</td>\n",
       "      <td>1</td>\n",
       "    </tr>\n",
       "    <tr>\n",
       "      <th>191619</th>\n",
       "      <td>50141175</td>\n",
       "      <td>2013-06-22 18:50:02.0000004</td>\n",
       "      <td>10.0</td>\n",
       "      <td>2013-06-22 18:50:02+00:00</td>\n",
       "      <td>-73.959377</td>\n",
       "      <td>40.774275</td>\n",
       "      <td>-73.988148</td>\n",
       "      <td>40.764538</td>\n",
       "      <td>2</td>\n",
       "      <td>(-73.959377, 40.774275)</td>\n",
       "      <td>(-73.988148, 40.764538)</td>\n",
       "      <td>3.23</td>\n",
       "      <td>2013</td>\n",
       "      <td>June</td>\n",
       "      <td>22</td>\n",
       "      <td>Saturday</td>\n",
       "      <td>18:50:02</td>\n",
       "      <td>Evening</td>\n",
       "      <td>2</td>\n",
       "    </tr>\n",
       "    <tr>\n",
       "      <th>127302</th>\n",
       "      <td>17926215</td>\n",
       "      <td>2009-08-01 12:21:31.0000005</td>\n",
       "      <td>4.9</td>\n",
       "      <td>2009-08-01 12:21:31+00:00</td>\n",
       "      <td>-73.976042</td>\n",
       "      <td>40.788733</td>\n",
       "      <td>-73.979743</td>\n",
       "      <td>40.782738</td>\n",
       "      <td>1</td>\n",
       "      <td>(-73.976042, 40.788733)</td>\n",
       "      <td>(-73.979743, 40.782738)</td>\n",
       "      <td>0.45</td>\n",
       "      <td>2009</td>\n",
       "      <td>August</td>\n",
       "      <td>1</td>\n",
       "      <td>Saturday</td>\n",
       "      <td>12:21:31</td>\n",
       "      <td>Noon</td>\n",
       "      <td>3</td>\n",
       "    </tr>\n",
       "  </tbody>\n",
       "</table>\n",
       "</div>"
      ],
      "text/plain": [
       "        Unnamed: 0                          key  fare_amount  \\\n",
       "15855     19164561  2010-05-01 16:58:00.0000008         16.5   \n",
       "62924     39126224  2012-02-10 11:04:03.0000002         12.1   \n",
       "76916      2684105  2015-03-06 13:24:17.0000001         13.5   \n",
       "191619    50141175  2013-06-22 18:50:02.0000004         10.0   \n",
       "127302    17926215  2009-08-01 12:21:31.0000005          4.9   \n",
       "\n",
       "                 pickup_datetime  pickup_longitude  pickup_latitude  \\\n",
       "15855  2010-05-01 16:58:00+00:00        -73.972627        40.780838   \n",
       "62924  2012-02-10 11:04:03+00:00        -73.990570        40.686482   \n",
       "76916  2015-03-06 13:24:17+00:00        -73.956642        40.775391   \n",
       "191619 2013-06-22 18:50:02+00:00        -73.959377        40.774275   \n",
       "127302 2009-08-01 12:21:31+00:00        -73.976042        40.788733   \n",
       "\n",
       "        dropoff_longitude  dropoff_latitude  passenger_count  \\\n",
       "15855          -74.002450         40.728992                1   \n",
       "62924          -73.990330         40.730707                1   \n",
       "76916          -73.971405         40.760975                5   \n",
       "191619         -73.988148         40.764538                2   \n",
       "127302         -73.979743         40.782738                1   \n",
       "\n",
       "                          pickup_location  \\\n",
       "15855             (-73.972627, 40.780838)   \n",
       "62924     (-73.99056999999999, 40.686482)   \n",
       "76916   (-73.9566421508789, 40.775390625)   \n",
       "191619            (-73.959377, 40.774275)   \n",
       "127302            (-73.976042, 40.788733)   \n",
       "\n",
       "                              dropoff_location  distance_travelled  year  \\\n",
       "15855                   (-74.00245, 40.728992)                3.69  2010   \n",
       "62924                   (-73.99033, 40.730707)                1.36  2012   \n",
       "76916   (-73.97140502929686, 40.7609748840332)                1.71  2015   \n",
       "191619                 (-73.988148, 40.764538)                3.23  2013   \n",
       "127302                 (-73.979743, 40.782738)                0.45  2009   \n",
       "\n",
       "           month  day  week_day pickup_time   period  Quarter  \n",
       "15855        May    1  Saturday    16:58:00  Evening        2  \n",
       "62924   February   10    Friday    11:04:03  Morning        1  \n",
       "76916      March    6    Friday    13:24:17     Noon        1  \n",
       "191619      June   22  Saturday    18:50:02  Evening        2  \n",
       "127302    August    1  Saturday    12:21:31     Noon        3  "
      ]
     },
     "execution_count": 92,
     "metadata": {},
     "output_type": "execute_result"
    }
   ],
   "source": [
    "df.sample(5)"
   ]
  },
  {
   "cell_type": "code",
   "execution_count": 93,
   "id": "c7382f7f",
   "metadata": {},
   "outputs": [
    {
     "data": {
      "text/html": [
       "<div>\n",
       "<style scoped>\n",
       "    .dataframe tbody tr th:only-of-type {\n",
       "        vertical-align: middle;\n",
       "    }\n",
       "\n",
       "    .dataframe tbody tr th {\n",
       "        vertical-align: top;\n",
       "    }\n",
       "\n",
       "    .dataframe thead th {\n",
       "        text-align: right;\n",
       "    }\n",
       "</style>\n",
       "<table border=\"1\" class=\"dataframe\">\n",
       "  <thead>\n",
       "    <tr style=\"text-align: right;\">\n",
       "      <th></th>\n",
       "      <th>Unnamed: 0</th>\n",
       "      <th>key</th>\n",
       "      <th>fare_amount</th>\n",
       "      <th>pickup_datetime</th>\n",
       "      <th>pickup_longitude</th>\n",
       "      <th>pickup_latitude</th>\n",
       "      <th>dropoff_longitude</th>\n",
       "      <th>dropoff_latitude</th>\n",
       "      <th>passenger_count</th>\n",
       "      <th>pickup_location</th>\n",
       "      <th>dropoff_location</th>\n",
       "      <th>distance_travelled</th>\n",
       "      <th>year</th>\n",
       "      <th>month</th>\n",
       "      <th>day</th>\n",
       "      <th>week_day</th>\n",
       "      <th>pickup_time</th>\n",
       "      <th>period</th>\n",
       "      <th>Quarter</th>\n",
       "    </tr>\n",
       "  </thead>\n",
       "  <tbody>\n",
       "    <tr>\n",
       "      <th>0</th>\n",
       "      <td>24238194</td>\n",
       "      <td>2015-05-07 19:52:06.0000003</td>\n",
       "      <td>7.5</td>\n",
       "      <td>2015-05-07 19:52:06+00:00</td>\n",
       "      <td>-73.999817</td>\n",
       "      <td>40.738354</td>\n",
       "      <td>-73.999512</td>\n",
       "      <td>40.723217</td>\n",
       "      <td>1</td>\n",
       "      <td>(-73.99981689453125, 40.73835372924805)</td>\n",
       "      <td>(-73.99951171875, 40.72321701049805)</td>\n",
       "      <td>0.47</td>\n",
       "      <td>2015</td>\n",
       "      <td>May</td>\n",
       "      <td>7</td>\n",
       "      <td>Thursday</td>\n",
       "      <td>19:52:06</td>\n",
       "      <td>Evening</td>\n",
       "      <td>2</td>\n",
       "    </tr>\n",
       "    <tr>\n",
       "      <th>1</th>\n",
       "      <td>27835199</td>\n",
       "      <td>2009-07-17 20:04:56.0000002</td>\n",
       "      <td>7.7</td>\n",
       "      <td>2009-07-17 20:04:56+00:00</td>\n",
       "      <td>-73.994355</td>\n",
       "      <td>40.728225</td>\n",
       "      <td>-73.994710</td>\n",
       "      <td>40.750325</td>\n",
       "      <td>1</td>\n",
       "      <td>(-73.994355, 40.728225)</td>\n",
       "      <td>(-73.99471, 40.750325)</td>\n",
       "      <td>0.68</td>\n",
       "      <td>2009</td>\n",
       "      <td>July</td>\n",
       "      <td>17</td>\n",
       "      <td>Friday</td>\n",
       "      <td>20:04:56</td>\n",
       "      <td>Night</td>\n",
       "      <td>3</td>\n",
       "    </tr>\n",
       "    <tr>\n",
       "      <th>2</th>\n",
       "      <td>44984355</td>\n",
       "      <td>2009-08-24 21:45:00.00000061</td>\n",
       "      <td>12.9</td>\n",
       "      <td>2009-08-24 21:45:00+00:00</td>\n",
       "      <td>-74.005043</td>\n",
       "      <td>40.740770</td>\n",
       "      <td>-73.962565</td>\n",
       "      <td>40.772647</td>\n",
       "      <td>1</td>\n",
       "      <td>(-74.005043, 40.74077)</td>\n",
       "      <td>(-73.962565, 40.772647)</td>\n",
       "      <td>4.84</td>\n",
       "      <td>2009</td>\n",
       "      <td>August</td>\n",
       "      <td>24</td>\n",
       "      <td>Monday</td>\n",
       "      <td>21:45:00</td>\n",
       "      <td>Night</td>\n",
       "      <td>3</td>\n",
       "    </tr>\n",
       "    <tr>\n",
       "      <th>3</th>\n",
       "      <td>25894730</td>\n",
       "      <td>2009-06-26 08:22:21.0000001</td>\n",
       "      <td>5.3</td>\n",
       "      <td>2009-06-26 08:22:21+00:00</td>\n",
       "      <td>-73.976124</td>\n",
       "      <td>40.790844</td>\n",
       "      <td>-73.965316</td>\n",
       "      <td>40.803349</td>\n",
       "      <td>3</td>\n",
       "      <td>(-73.976124, 40.790844)</td>\n",
       "      <td>(-73.965316, 40.803349)</td>\n",
       "      <td>1.27</td>\n",
       "      <td>2009</td>\n",
       "      <td>June</td>\n",
       "      <td>26</td>\n",
       "      <td>Friday</td>\n",
       "      <td>08:22:21</td>\n",
       "      <td>Morning</td>\n",
       "      <td>2</td>\n",
       "    </tr>\n",
       "    <tr>\n",
       "      <th>4</th>\n",
       "      <td>17610152</td>\n",
       "      <td>2014-08-28 17:47:00.000000188</td>\n",
       "      <td>16.0</td>\n",
       "      <td>2014-08-28 17:47:00+00:00</td>\n",
       "      <td>-73.925023</td>\n",
       "      <td>40.744085</td>\n",
       "      <td>-73.973082</td>\n",
       "      <td>40.761247</td>\n",
       "      <td>5</td>\n",
       "      <td>(-73.925023, 40.744085)</td>\n",
       "      <td>(-73.97308199999999, 40.761247)</td>\n",
       "      <td>5.39</td>\n",
       "      <td>2014</td>\n",
       "      <td>August</td>\n",
       "      <td>28</td>\n",
       "      <td>Thursday</td>\n",
       "      <td>17:47:00</td>\n",
       "      <td>Evening</td>\n",
       "      <td>3</td>\n",
       "    </tr>\n",
       "  </tbody>\n",
       "</table>\n",
       "</div>"
      ],
      "text/plain": [
       "   Unnamed: 0                            key  fare_amount  \\\n",
       "0    24238194    2015-05-07 19:52:06.0000003          7.5   \n",
       "1    27835199    2009-07-17 20:04:56.0000002          7.7   \n",
       "2    44984355   2009-08-24 21:45:00.00000061         12.9   \n",
       "3    25894730    2009-06-26 08:22:21.0000001          5.3   \n",
       "4    17610152  2014-08-28 17:47:00.000000188         16.0   \n",
       "\n",
       "            pickup_datetime  pickup_longitude  pickup_latitude  \\\n",
       "0 2015-05-07 19:52:06+00:00        -73.999817        40.738354   \n",
       "1 2009-07-17 20:04:56+00:00        -73.994355        40.728225   \n",
       "2 2009-08-24 21:45:00+00:00        -74.005043        40.740770   \n",
       "3 2009-06-26 08:22:21+00:00        -73.976124        40.790844   \n",
       "4 2014-08-28 17:47:00+00:00        -73.925023        40.744085   \n",
       "\n",
       "   dropoff_longitude  dropoff_latitude  passenger_count  \\\n",
       "0         -73.999512         40.723217                1   \n",
       "1         -73.994710         40.750325                1   \n",
       "2         -73.962565         40.772647                1   \n",
       "3         -73.965316         40.803349                3   \n",
       "4         -73.973082         40.761247                5   \n",
       "\n",
       "                           pickup_location  \\\n",
       "0  (-73.99981689453125, 40.73835372924805)   \n",
       "1                  (-73.994355, 40.728225)   \n",
       "2                   (-74.005043, 40.74077)   \n",
       "3                  (-73.976124, 40.790844)   \n",
       "4                  (-73.925023, 40.744085)   \n",
       "\n",
       "                       dropoff_location  distance_travelled  year   month  \\\n",
       "0  (-73.99951171875, 40.72321701049805)                0.47  2015     May   \n",
       "1                (-73.99471, 40.750325)                0.68  2009    July   \n",
       "2               (-73.962565, 40.772647)                4.84  2009  August   \n",
       "3               (-73.965316, 40.803349)                1.27  2009    June   \n",
       "4       (-73.97308199999999, 40.761247)                5.39  2014  August   \n",
       "\n",
       "   day  week_day pickup_time   period  Quarter  \n",
       "0    7  Thursday    19:52:06  Evening        2  \n",
       "1   17    Friday    20:04:56    Night        3  \n",
       "2   24    Monday    21:45:00    Night        3  \n",
       "3   26    Friday    08:22:21  Morning        2  \n",
       "4   28  Thursday    17:47:00  Evening        3  "
      ]
     },
     "execution_count": 93,
     "metadata": {},
     "output_type": "execute_result"
    }
   ],
   "source": [
    "df.head()"
   ]
  },
  {
   "cell_type": "code",
   "execution_count": 94,
   "id": "2b707df0",
   "metadata": {},
   "outputs": [
    {
     "data": {
      "image/png": "[encoded data removed]",
      "text/plain": [
       "<Figure size 432x288 with 1 Axes>"
      ]
     },
     "metadata": {
      "needs_background": "light"
     },
     "output_type": "display_data"
    },
    {
     "data": {
      "image/png": "[encoded data removed]",
      "text/plain": [
       "<Figure size 432x288 with 1 Axes>"
      ]
     },
     "metadata": {
      "needs_background": "light"
     },
     "output_type": "display_data"
    },
    {
     "data": {
      "image/png": "[encoded data removed]",
      "text/plain": [
       "<Figure size 432x288 with 1 Axes>"
      ]
     },
     "metadata": {
      "needs_background": "light"
     },
     "output_type": "display_data"
    },
    {
     "data": {
      "image/png": "[encoded data removed]",
      "text/plain": [
       "<Figure size 432x288 with 1 Axes>"
      ]
     },
     "metadata": {
      "needs_background": "light"
     },
     "output_type": "display_data"
    },
    {
     "data": {
      "image/png": "[encoded data removed]",
      "text/plain": [
       "<Figure size 432x288 with 1 Axes>"
      ]
     },
     "metadata": {
      "needs_background": "light"
     },
     "output_type": "display_data"
    },
    {
     "data": {
      "image/png": "[encoded data removed]",
      "text/plain": [
       "<Figure size 432x288 with 1 Axes>"
      ]
     },
     "metadata": {
      "needs_background": "light"
     },
     "output_type": "display_data"
    }
   ],
   "source": [
    "for col in ['year','month','Quarter','week_day','period','passenger_count']:\n",
    "    sns.countplot(data = df, x = col)\n",
    "    plt.xticks(rotation=45)\n",
    "    plt.show()"
   ]
  },
  {
   "cell_type": "code",
   "execution_count": 95,
   "id": "278c4f7d",
   "metadata": {},
   "outputs": [
    {
     "data": {
      "text/html": [
       "<div>\n",
       "<style scoped>\n",
       "    .dataframe tbody tr th:only-of-type {\n",
       "        vertical-align: middle;\n",
       "    }\n",
       "\n",
       "    .dataframe tbody tr th {\n",
       "        vertical-align: top;\n",
       "    }\n",
       "\n",
       "    .dataframe thead th {\n",
       "        text-align: right;\n",
       "    }\n",
       "</style>\n",
       "<table border=\"1\" class=\"dataframe\">\n",
       "  <thead>\n",
       "    <tr style=\"text-align: right;\">\n",
       "      <th></th>\n",
       "      <th>fare_amount</th>\n",
       "      <th>passenger_count</th>\n",
       "      <th>distance_travelled</th>\n",
       "      <th>year</th>\n",
       "      <th>month</th>\n",
       "      <th>week_day</th>\n",
       "      <th>period</th>\n",
       "      <th>Quarter</th>\n",
       "    </tr>\n",
       "  </thead>\n",
       "  <tbody>\n",
       "    <tr>\n",
       "      <th>0</th>\n",
       "      <td>7.5</td>\n",
       "      <td>1</td>\n",
       "      <td>0.47</td>\n",
       "      <td>2015</td>\n",
       "      <td>May</td>\n",
       "      <td>Thursday</td>\n",
       "      <td>Evening</td>\n",
       "      <td>2</td>\n",
       "    </tr>\n",
       "    <tr>\n",
       "      <th>1</th>\n",
       "      <td>7.7</td>\n",
       "      <td>1</td>\n",
       "      <td>0.68</td>\n",
       "      <td>2009</td>\n",
       "      <td>July</td>\n",
       "      <td>Friday</td>\n",
       "      <td>Night</td>\n",
       "      <td>3</td>\n",
       "    </tr>\n",
       "    <tr>\n",
       "      <th>2</th>\n",
       "      <td>12.9</td>\n",
       "      <td>1</td>\n",
       "      <td>4.84</td>\n",
       "      <td>2009</td>\n",
       "      <td>August</td>\n",
       "      <td>Monday</td>\n",
       "      <td>Night</td>\n",
       "      <td>3</td>\n",
       "    </tr>\n",
       "    <tr>\n",
       "      <th>3</th>\n",
       "      <td>5.3</td>\n",
       "      <td>3</td>\n",
       "      <td>1.27</td>\n",
       "      <td>2009</td>\n",
       "      <td>June</td>\n",
       "      <td>Friday</td>\n",
       "      <td>Morning</td>\n",
       "      <td>2</td>\n",
       "    </tr>\n",
       "    <tr>\n",
       "      <th>4</th>\n",
       "      <td>16.0</td>\n",
       "      <td>5</td>\n",
       "      <td>5.39</td>\n",
       "      <td>2014</td>\n",
       "      <td>August</td>\n",
       "      <td>Thursday</td>\n",
       "      <td>Evening</td>\n",
       "      <td>3</td>\n",
       "    </tr>\n",
       "  </tbody>\n",
       "</table>\n",
       "</div>"
      ],
      "text/plain": [
       "   fare_amount  passenger_count  distance_travelled  year   month  week_day  \\\n",
       "0          7.5                1                0.47  2015     May  Thursday   \n",
       "1          7.7                1                0.68  2009    July    Friday   \n",
       "2         12.9                1                4.84  2009  August    Monday   \n",
       "3          5.3                3                1.27  2009    June    Friday   \n",
       "4         16.0                5                5.39  2014  August  Thursday   \n",
       "\n",
       "    period  Quarter  \n",
       "0  Evening        2  \n",
       "1    Night        3  \n",
       "2    Night        3  \n",
       "3  Morning        2  \n",
       "4  Evening        3  "
      ]
     },
     "execution_count": 95,
     "metadata": {},
     "output_type": "execute_result"
    }
   ],
   "source": [
    "df_uber_rel = df[['fare_amount','passenger_count','distance_travelled','year','month','week_day','period','Quarter']]\n",
    "df_uber_rel.head()"
   ]
  },
  {
   "cell_type": "code",
   "execution_count": 96,
   "id": "9a90137e",
   "metadata": {},
   "outputs": [
    {
     "data": {
      "text/html": [
       "<div>\n",
       "<style scoped>\n",
       "    .dataframe tbody tr th:only-of-type {\n",
       "        vertical-align: middle;\n",
       "    }\n",
       "\n",
       "    .dataframe tbody tr th {\n",
       "        vertical-align: top;\n",
       "    }\n",
       "\n",
       "    .dataframe thead th {\n",
       "        text-align: right;\n",
       "    }\n",
       "</style>\n",
       "<table border=\"1\" class=\"dataframe\">\n",
       "  <thead>\n",
       "    <tr style=\"text-align: right;\">\n",
       "      <th></th>\n",
       "      <th>fare_amount</th>\n",
       "      <th>passenger_count</th>\n",
       "      <th>distance_travelled</th>\n",
       "      <th>year</th>\n",
       "      <th>Quarter</th>\n",
       "    </tr>\n",
       "  </thead>\n",
       "  <tbody>\n",
       "    <tr>\n",
       "      <th>count</th>\n",
       "      <td>193549.000000</td>\n",
       "      <td>193549.000000</td>\n",
       "      <td>193549.000000</td>\n",
       "      <td>193549.000000</td>\n",
       "      <td>193549.000000</td>\n",
       "    </tr>\n",
       "    <tr>\n",
       "      <th>mean</th>\n",
       "      <td>10.093146</td>\n",
       "      <td>1.687950</td>\n",
       "      <td>2.119058</td>\n",
       "      <td>2011.745775</td>\n",
       "      <td>2.427277</td>\n",
       "    </tr>\n",
       "    <tr>\n",
       "      <th>std</th>\n",
       "      <td>5.418932</td>\n",
       "      <td>1.304281</td>\n",
       "      <td>1.643296</td>\n",
       "      <td>1.859618</td>\n",
       "      <td>1.116815</td>\n",
       "    </tr>\n",
       "    <tr>\n",
       "      <th>min</th>\n",
       "      <td>0.010000</td>\n",
       "      <td>1.000000</td>\n",
       "      <td>0.010000</td>\n",
       "      <td>2009.000000</td>\n",
       "      <td>1.000000</td>\n",
       "    </tr>\n",
       "    <tr>\n",
       "      <th>25%</th>\n",
       "      <td>6.000000</td>\n",
       "      <td>1.000000</td>\n",
       "      <td>0.880000</td>\n",
       "      <td>2010.000000</td>\n",
       "      <td>1.000000</td>\n",
       "    </tr>\n",
       "    <tr>\n",
       "      <th>50%</th>\n",
       "      <td>8.500000</td>\n",
       "      <td>1.000000</td>\n",
       "      <td>1.580000</td>\n",
       "      <td>2012.000000</td>\n",
       "      <td>2.000000</td>\n",
       "    </tr>\n",
       "    <tr>\n",
       "      <th>75%</th>\n",
       "      <td>12.500000</td>\n",
       "      <td>2.000000</td>\n",
       "      <td>2.870000</td>\n",
       "      <td>2013.000000</td>\n",
       "      <td>3.000000</td>\n",
       "    </tr>\n",
       "    <tr>\n",
       "      <th>max</th>\n",
       "      <td>22.250000</td>\n",
       "      <td>6.000000</td>\n",
       "      <td>5.855000</td>\n",
       "      <td>2015.000000</td>\n",
       "      <td>4.000000</td>\n",
       "    </tr>\n",
       "  </tbody>\n",
       "</table>\n",
       "</div>"
      ],
      "text/plain": [
       "         fare_amount  passenger_count  distance_travelled           year  \\\n",
       "count  193549.000000    193549.000000       193549.000000  193549.000000   \n",
       "mean       10.093146         1.687950            2.119058    2011.745775   \n",
       "std         5.418932         1.304281            1.643296       1.859618   \n",
       "min         0.010000         1.000000            0.010000    2009.000000   \n",
       "25%         6.000000         1.000000            0.880000    2010.000000   \n",
       "50%         8.500000         1.000000            1.580000    2012.000000   \n",
       "75%        12.500000         2.000000            2.870000    2013.000000   \n",
       "max        22.250000         6.000000            5.855000    2015.000000   \n",
       "\n",
       "             Quarter  \n",
       "count  193549.000000  \n",
       "mean        2.427277  \n",
       "std         1.116815  \n",
       "min         1.000000  \n",
       "25%         1.000000  \n",
       "50%         2.000000  \n",
       "75%         3.000000  \n",
       "max         4.000000  "
      ]
     },
     "execution_count": 96,
     "metadata": {},
     "output_type": "execute_result"
    }
   ],
   "source": [
    "df_uber_rel.describe()"
   ]
  },
  {
   "cell_type": "code",
   "execution_count": 98,
   "id": "399663e6",
   "metadata": {},
   "outputs": [],
   "source": [
    "import warnings\n",
    "warnings.filterwarnings('ignore')\n",
    "\n",
    "df_uber_rel['period'].replace({'Early Morning' : 1,\n",
    "                           'Morning' : 2,\n",
    "                           'Noon' : 3,\n",
    "                           'Evening' : 4,\n",
    "                           'Night' : 5,\n",
    "                           'Late Night' : 6},inplace=True)"
   ]
  },
  {
   "cell_type": "code",
   "execution_count": 99,
   "id": "c78f904d",
   "metadata": {},
   "outputs": [
    {
     "data": {
      "text/plain": [
       "May          18271\n",
       "March        18175\n",
       "April        18013\n",
       "June         17217\n",
       "January      17130\n",
       "February     16152\n",
       "October      15692\n",
       "December     15043\n",
       "November     14830\n",
       "September    14774\n",
       "July         14589\n",
       "August       13663\n",
       "Name: month, dtype: int64"
      ]
     },
     "execution_count": 99,
     "metadata": {},
     "output_type": "execute_result"
    }
   ],
   "source": [
    "df['month'].value_counts()"
   ]
  },
  {
   "cell_type": "code",
   "execution_count": 100,
   "id": "983302b8",
   "metadata": {},
   "outputs": [],
   "source": [
    "df_uber_rel['month'].replace({'January':1, 'February':2, 'March':3, 'April':4,'May':5,'June':6,'July':7,'August':8,\n",
    "                         'September' :9, 'October':10, 'November':11, 'December':12},inplace=True)"
   ]
  },
  {
   "cell_type": "code",
   "execution_count": 102,
   "id": "5ab309a5",
   "metadata": {},
   "outputs": [],
   "source": [
    "df_uber_rel['week_day'].replace({'Monday':1,'Tuesday':2,'Wednesday':3,'Thursday':4,\n",
    "                                 'Friday':5,'Saturday':6,'Sunday':7},inplace=True)"
   ]
  },
  {
   "cell_type": "code",
   "execution_count": 103,
   "id": "d1a0dc02",
   "metadata": {},
   "outputs": [
    {
     "data": {
      "text/plain": [
       "array([2015, 2009, 2014, 2012, 2011, 2010, 2013])"
      ]
     },
     "execution_count": 103,
     "metadata": {},
     "output_type": "execute_result"
    }
   ],
   "source": [
    "df_uber_rel['year'].unique()"
   ]
  },
  {
   "cell_type": "code",
   "execution_count": 104,
   "id": "ea497a70",
   "metadata": {},
   "outputs": [],
   "source": [
    "df_uber_rel['year'].replace({2009:1,2010:2,2011:3,2012:4,2013:5,2014:6,2015:7},inplace=True)"
   ]
  },
  {
   "cell_type": "code",
   "execution_count": 105,
   "id": "f1025530",
   "metadata": {},
   "outputs": [
    {
     "data": {
      "text/html": [
       "<div>\n",
       "<style scoped>\n",
       "    .dataframe tbody tr th:only-of-type {\n",
       "        vertical-align: middle;\n",
       "    }\n",
       "\n",
       "    .dataframe tbody tr th {\n",
       "        vertical-align: top;\n",
       "    }\n",
       "\n",
       "    .dataframe thead th {\n",
       "        text-align: right;\n",
       "    }\n",
       "</style>\n",
       "<table border=\"1\" class=\"dataframe\">\n",
       "  <thead>\n",
       "    <tr style=\"text-align: right;\">\n",
       "      <th></th>\n",
       "      <th>fare_amount</th>\n",
       "      <th>passenger_count</th>\n",
       "      <th>distance_travelled</th>\n",
       "      <th>year</th>\n",
       "      <th>month</th>\n",
       "      <th>week_day</th>\n",
       "      <th>period</th>\n",
       "      <th>Quarter</th>\n",
       "    </tr>\n",
       "  </thead>\n",
       "  <tbody>\n",
       "    <tr>\n",
       "      <th>0</th>\n",
       "      <td>7.5</td>\n",
       "      <td>1</td>\n",
       "      <td>0.47</td>\n",
       "      <td>7</td>\n",
       "      <td>5</td>\n",
       "      <td>4</td>\n",
       "      <td>4</td>\n",
       "      <td>2</td>\n",
       "    </tr>\n",
       "    <tr>\n",
       "      <th>1</th>\n",
       "      <td>7.7</td>\n",
       "      <td>1</td>\n",
       "      <td>0.68</td>\n",
       "      <td>1</td>\n",
       "      <td>7</td>\n",
       "      <td>5</td>\n",
       "      <td>5</td>\n",
       "      <td>3</td>\n",
       "    </tr>\n",
       "    <tr>\n",
       "      <th>2</th>\n",
       "      <td>12.9</td>\n",
       "      <td>1</td>\n",
       "      <td>4.84</td>\n",
       "      <td>1</td>\n",
       "      <td>8</td>\n",
       "      <td>1</td>\n",
       "      <td>5</td>\n",
       "      <td>3</td>\n",
       "    </tr>\n",
       "    <tr>\n",
       "      <th>3</th>\n",
       "      <td>5.3</td>\n",
       "      <td>3</td>\n",
       "      <td>1.27</td>\n",
       "      <td>1</td>\n",
       "      <td>6</td>\n",
       "      <td>5</td>\n",
       "      <td>2</td>\n",
       "      <td>2</td>\n",
       "    </tr>\n",
       "    <tr>\n",
       "      <th>4</th>\n",
       "      <td>16.0</td>\n",
       "      <td>5</td>\n",
       "      <td>5.39</td>\n",
       "      <td>6</td>\n",
       "      <td>8</td>\n",
       "      <td>4</td>\n",
       "      <td>4</td>\n",
       "      <td>3</td>\n",
       "    </tr>\n",
       "  </tbody>\n",
       "</table>\n",
       "</div>"
      ],
      "text/plain": [
       "   fare_amount  passenger_count  distance_travelled  year  month  week_day  \\\n",
       "0          7.5                1                0.47     7      5         4   \n",
       "1          7.7                1                0.68     1      7         5   \n",
       "2         12.9                1                4.84     1      8         1   \n",
       "3          5.3                3                1.27     1      6         5   \n",
       "4         16.0                5                5.39     6      8         4   \n",
       "\n",
       "   period  Quarter  \n",
       "0       4        2  \n",
       "1       5        3  \n",
       "2       5        3  \n",
       "3       2        2  \n",
       "4       4        3  "
      ]
     },
     "execution_count": 105,
     "metadata": {},
     "output_type": "execute_result"
    }
   ],
   "source": [
    "df_uber_rel.head()"
   ]
  },
  {
   "cell_type": "code",
   "execution_count": 106,
   "id": "cb373303",
   "metadata": {},
   "outputs": [
    {
     "data": {
      "text/plain": [
       "<AxesSubplot:>"
      ]
     },
     "execution_count": 106,
     "metadata": {},
     "output_type": "execute_result"
    },
    {
     "data": {
      "image/png": "[encoded data removed]",
      "text/plain": [
       "<Figure size 720x720 with 2 Axes>"
      ]
     },
     "metadata": {
      "needs_background": "light"
     },
     "output_type": "display_data"
    }
   ],
   "source": [
    "corr = df_uber_rel.corr()\n",
    "plt.figure(figsize=(10,10))\n",
    "sns.heatmap(corr,annot=True)"
   ]
  },
  {
   "cell_type": "markdown",
   "id": "078993af",
   "metadata": {},
   "source": [
    "The heatmap shows that the target column i.e. fare_amount and distance travelled have a very strong correlation."
   ]
  },
  {
   "cell_type": "markdown",
   "id": "33da2d15",
   "metadata": {},
   "source": [
    "## Scaling Data"
   ]
  },
  {
   "cell_type": "code",
   "execution_count": 107,
   "id": "d1524b04",
   "metadata": {},
   "outputs": [
    {
     "data": {
      "text/html": [
       "<div>\n",
       "<style scoped>\n",
       "    .dataframe tbody tr th:only-of-type {\n",
       "        vertical-align: middle;\n",
       "    }\n",
       "\n",
       "    .dataframe tbody tr th {\n",
       "        vertical-align: top;\n",
       "    }\n",
       "\n",
       "    .dataframe thead th {\n",
       "        text-align: right;\n",
       "    }\n",
       "</style>\n",
       "<table border=\"1\" class=\"dataframe\">\n",
       "  <thead>\n",
       "    <tr style=\"text-align: right;\">\n",
       "      <th></th>\n",
       "      <th>fare_amount</th>\n",
       "      <th>passenger_count</th>\n",
       "      <th>distance_travelled</th>\n",
       "      <th>year</th>\n",
       "      <th>month</th>\n",
       "      <th>week_day</th>\n",
       "      <th>period</th>\n",
       "      <th>Quarter</th>\n",
       "    </tr>\n",
       "  </thead>\n",
       "  <tbody>\n",
       "    <tr>\n",
       "      <th>0</th>\n",
       "      <td>0.336781</td>\n",
       "      <td>0.0</td>\n",
       "      <td>0.078700</td>\n",
       "      <td>1.000000</td>\n",
       "      <td>0.363636</td>\n",
       "      <td>0.500000</td>\n",
       "      <td>0.6</td>\n",
       "      <td>0.333333</td>\n",
       "    </tr>\n",
       "    <tr>\n",
       "      <th>1</th>\n",
       "      <td>0.345773</td>\n",
       "      <td>0.0</td>\n",
       "      <td>0.114628</td>\n",
       "      <td>0.000000</td>\n",
       "      <td>0.545455</td>\n",
       "      <td>0.666667</td>\n",
       "      <td>0.8</td>\n",
       "      <td>0.666667</td>\n",
       "    </tr>\n",
       "    <tr>\n",
       "      <th>2</th>\n",
       "      <td>0.579586</td>\n",
       "      <td>0.0</td>\n",
       "      <td>0.826347</td>\n",
       "      <td>0.000000</td>\n",
       "      <td>0.636364</td>\n",
       "      <td>0.000000</td>\n",
       "      <td>0.8</td>\n",
       "      <td>0.666667</td>\n",
       "    </tr>\n",
       "    <tr>\n",
       "      <th>3</th>\n",
       "      <td>0.237860</td>\n",
       "      <td>0.4</td>\n",
       "      <td>0.215569</td>\n",
       "      <td>0.000000</td>\n",
       "      <td>0.454545</td>\n",
       "      <td>0.666667</td>\n",
       "      <td>0.2</td>\n",
       "      <td>0.333333</td>\n",
       "    </tr>\n",
       "    <tr>\n",
       "      <th>4</th>\n",
       "      <td>0.718975</td>\n",
       "      <td>0.8</td>\n",
       "      <td>0.920445</td>\n",
       "      <td>0.833333</td>\n",
       "      <td>0.636364</td>\n",
       "      <td>0.500000</td>\n",
       "      <td>0.6</td>\n",
       "      <td>0.666667</td>\n",
       "    </tr>\n",
       "    <tr>\n",
       "      <th>...</th>\n",
       "      <td>...</td>\n",
       "      <td>...</td>\n",
       "      <td>...</td>\n",
       "      <td>...</td>\n",
       "      <td>...</td>\n",
       "      <td>...</td>\n",
       "      <td>...</td>\n",
       "      <td>...</td>\n",
       "    </tr>\n",
       "    <tr>\n",
       "      <th>193544</th>\n",
       "      <td>0.134442</td>\n",
       "      <td>0.0</td>\n",
       "      <td>0.008554</td>\n",
       "      <td>0.500000</td>\n",
       "      <td>0.818182</td>\n",
       "      <td>1.000000</td>\n",
       "      <td>0.2</td>\n",
       "      <td>1.000000</td>\n",
       "    </tr>\n",
       "    <tr>\n",
       "      <th>193545</th>\n",
       "      <td>0.336781</td>\n",
       "      <td>0.0</td>\n",
       "      <td>0.417451</td>\n",
       "      <td>0.833333</td>\n",
       "      <td>0.181818</td>\n",
       "      <td>0.666667</td>\n",
       "      <td>1.0</td>\n",
       "      <td>0.000000</td>\n",
       "    </tr>\n",
       "    <tr>\n",
       "      <th>193546</th>\n",
       "      <td>1.000000</td>\n",
       "      <td>0.2</td>\n",
       "      <td>1.000000</td>\n",
       "      <td>0.000000</td>\n",
       "      <td>0.454545</td>\n",
       "      <td>0.000000</td>\n",
       "      <td>1.0</td>\n",
       "      <td>0.333333</td>\n",
       "    </tr>\n",
       "    <tr>\n",
       "      <th>193547</th>\n",
       "      <td>0.651529</td>\n",
       "      <td>0.0</td>\n",
       "      <td>0.307956</td>\n",
       "      <td>1.000000</td>\n",
       "      <td>0.363636</td>\n",
       "      <td>0.333333</td>\n",
       "      <td>0.4</td>\n",
       "      <td>0.333333</td>\n",
       "    </tr>\n",
       "    <tr>\n",
       "      <th>193548</th>\n",
       "      <td>0.633543</td>\n",
       "      <td>0.0</td>\n",
       "      <td>0.256630</td>\n",
       "      <td>0.166667</td>\n",
       "      <td>0.363636</td>\n",
       "      <td>0.833333</td>\n",
       "      <td>0.0</td>\n",
       "      <td>0.333333</td>\n",
       "    </tr>\n",
       "  </tbody>\n",
       "</table>\n",
       "<p>193549 rows × 8 columns</p>\n",
       "</div>"
      ],
      "text/plain": [
       "        fare_amount  passenger_count  distance_travelled      year     month  \\\n",
       "0          0.336781              0.0            0.078700  1.000000  0.363636   \n",
       "1          0.345773              0.0            0.114628  0.000000  0.545455   \n",
       "2          0.579586              0.0            0.826347  0.000000  0.636364   \n",
       "3          0.237860              0.4            0.215569  0.000000  0.454545   \n",
       "4          0.718975              0.8            0.920445  0.833333  0.636364   \n",
       "...             ...              ...                 ...       ...       ...   \n",
       "193544     0.134442              0.0            0.008554  0.500000  0.818182   \n",
       "193545     0.336781              0.0            0.417451  0.833333  0.181818   \n",
       "193546     1.000000              0.2            1.000000  0.000000  0.454545   \n",
       "193547     0.651529              0.0            0.307956  1.000000  0.363636   \n",
       "193548     0.633543              0.0            0.256630  0.166667  0.363636   \n",
       "\n",
       "        week_day  period   Quarter  \n",
       "0       0.500000     0.6  0.333333  \n",
       "1       0.666667     0.8  0.666667  \n",
       "2       0.000000     0.8  0.666667  \n",
       "3       0.666667     0.2  0.333333  \n",
       "4       0.500000     0.6  0.666667  \n",
       "...          ...     ...       ...  \n",
       "193544  1.000000     0.2  1.000000  \n",
       "193545  0.666667     1.0  0.000000  \n",
       "193546  0.000000     1.0  0.333333  \n",
       "193547  0.333333     0.4  0.333333  \n",
       "193548  0.833333     0.0  0.333333  \n",
       "\n",
       "[193549 rows x 8 columns]"
      ]
     },
     "execution_count": 107,
     "metadata": {},
     "output_type": "execute_result"
    }
   ],
   "source": [
    "scaler = MinMaxScaler()\n",
    "df_uber_scaled = scaler.fit_transform(df_uber_rel)\n",
    "df_uber_scaled = pd.DataFrame(df_uber_scaled,columns=df_uber_rel.columns)\n",
    "df_uber_scaled"
   ]
  },
  {
   "cell_type": "code",
   "execution_count": 110,
   "id": "8668291b",
   "metadata": {},
   "outputs": [],
   "source": [
    "from statsmodels.formula.api import ols\n",
    "\n",
    "f_passenger_count = 'passenger_count~distance_travelled+year+month+week_day+period+Quarter'\n",
    "m_passenger_count = ols(formula=f_passenger_count,data=df_uber_rel).fit()\n",
    "rsq_passenger_count = m_passenger_count.rsquared\n",
    "vif_passenger_count = round(1/(1-rsq_passenger_count),2)\n",
    "\n",
    "f_distance_travelled = 'distance_travelled~passenger_count+year+month+week_day+period+Quarter'\n",
    "m_distance_travelled = ols(formula=f_distance_travelled,data=df_uber_rel).fit()\n",
    "rsq_distance_travelled = m_distance_travelled.rsquared\n",
    "vif_distance_travelled = round(1/(1-rsq_distance_travelled),2)\n",
    "\n",
    "f_year = 'year~passenger_count+distance_travelled+month+week_day+period+Quarter'\n",
    "m_year = ols(formula=f_year,data=df_uber_rel).fit()\n",
    "rsq_year = m_year.rsquared\n",
    "vif_year = round(1/(1-rsq_year),2)\n",
    "\n",
    "f_month = 'month~passenger_count+distance_travelled+year+week_day+period+Quarter'\n",
    "m_month = ols(formula=f_month,data=df_uber_rel).fit()\n",
    "rsq_month = m_month.rsquared\n",
    "vif_month = round(1/(1-rsq_month),2)\n",
    "\n",
    "f_week_day = 'week_day~passenger_count+distance_travelled+year+month+period+Quarter'\n",
    "m_week_day = ols(formula=f_week_day,data=df_uber_rel).fit()\n",
    "rsq_week_day = m_week_day.rsquared\n",
    "vif_week_day = round(1/(1-rsq_week_day),2)\n",
    "\n",
    "f_period = 'period~passenger_count+distance_travelled+year+month+week_day+Quarter'\n",
    "m_period = ols(formula=f_period,data=df_uber_rel).fit()\n",
    "rsq_period = m_period.rsquared\n",
    "vif_period = round(1/(1-rsq_period),2)\n",
    "\n",
    "f_Quarter = 'Quarter~passenger_count+distance_travelled+year+month+week_day+period'\n",
    "m_Quarter = ols(formula=f_Quarter,data=df_uber_rel).fit()\n",
    "rsq_Quarter = m_Quarter.rsquared\n",
    "vif_Quarter = round(1/(1-rsq_Quarter),2)"
   ]
  },
  {
   "cell_type": "code",
   "execution_count": 111,
   "id": "d8b4d19f",
   "metadata": {},
   "outputs": [
    {
     "data": {
      "text/plain": [
       "Index(['Unnamed: 0', 'key', 'fare_amount', 'pickup_datetime',\n",
       "       'pickup_longitude', 'pickup_latitude', 'dropoff_longitude',\n",
       "       'dropoff_latitude', 'passenger_count', 'pickup_location',\n",
       "       'dropoff_location', 'distance_travelled', 'year', 'month', 'day',\n",
       "       'week_day', 'pickup_time', 'period', 'Quarter'],\n",
       "      dtype='object')"
      ]
     },
     "execution_count": 111,
     "metadata": {},
     "output_type": "execute_result"
    }
   ],
   "source": [
    "df.columns"
   ]
  },
  {
   "cell_type": "code",
   "execution_count": 112,
   "id": "0281d8dd",
   "metadata": {},
   "outputs": [
    {
     "data": {
      "text/html": [
       "<div>\n",
       "<style scoped>\n",
       "    .dataframe tbody tr th:only-of-type {\n",
       "        vertical-align: middle;\n",
       "    }\n",
       "\n",
       "    .dataframe tbody tr th {\n",
       "        vertical-align: top;\n",
       "    }\n",
       "\n",
       "    .dataframe thead th {\n",
       "        text-align: right;\n",
       "    }\n",
       "</style>\n",
       "<table border=\"1\" class=\"dataframe\">\n",
       "  <thead>\n",
       "    <tr style=\"text-align: right;\">\n",
       "      <th></th>\n",
       "      <th>feature</th>\n",
       "      <th>VIF</th>\n",
       "    </tr>\n",
       "  </thead>\n",
       "  <tbody>\n",
       "    <tr>\n",
       "      <th>0</th>\n",
       "      <td>passenger_count</td>\n",
       "      <td>1.00</td>\n",
       "    </tr>\n",
       "    <tr>\n",
       "      <th>1</th>\n",
       "      <td>distance_travelled</td>\n",
       "      <td>1.00</td>\n",
       "    </tr>\n",
       "    <tr>\n",
       "      <th>2</th>\n",
       "      <td>year</td>\n",
       "      <td>1.01</td>\n",
       "    </tr>\n",
       "    <tr>\n",
       "      <th>3</th>\n",
       "      <td>month</td>\n",
       "      <td>17.54</td>\n",
       "    </tr>\n",
       "    <tr>\n",
       "      <th>4</th>\n",
       "      <td>week_day</td>\n",
       "      <td>1.02</td>\n",
       "    </tr>\n",
       "    <tr>\n",
       "      <th>5</th>\n",
       "      <td>period</td>\n",
       "      <td>1.02</td>\n",
       "    </tr>\n",
       "    <tr>\n",
       "      <th>6</th>\n",
       "      <td>Quarter</td>\n",
       "      <td>17.55</td>\n",
       "    </tr>\n",
       "  </tbody>\n",
       "</table>\n",
       "</div>"
      ],
      "text/plain": [
       "              feature    VIF\n",
       "0     passenger_count   1.00\n",
       "1  distance_travelled   1.00\n",
       "2                year   1.01\n",
       "3               month  17.54\n",
       "4            week_day   1.02\n",
       "5              period   1.02\n",
       "6             Quarter  17.55"
      ]
     },
     "execution_count": 112,
     "metadata": {},
     "output_type": "execute_result"
    }
   ],
   "source": [
    "vif_dic = {'feature':['passenger_count', 'distance_travelled', 'year', 'month',\n",
    "       'week_day', 'period', 'Quarter'], 'VIF':[vif_passenger_count,vif_distance_travelled,vif_year,vif_month,vif_week_day,vif_period,vif_Quarter]}\n",
    "pd.DataFrame(data=vif_dic)"
   ]
  },
  {
   "cell_type": "code",
   "execution_count": 113,
   "id": "3051c388",
   "metadata": {},
   "outputs": [
    {
     "data": {
      "text/html": [
       "<div>\n",
       "<style scoped>\n",
       "    .dataframe tbody tr th:only-of-type {\n",
       "        vertical-align: middle;\n",
       "    }\n",
       "\n",
       "    .dataframe tbody tr th {\n",
       "        vertical-align: top;\n",
       "    }\n",
       "\n",
       "    .dataframe thead th {\n",
       "        text-align: right;\n",
       "    }\n",
       "</style>\n",
       "<table border=\"1\" class=\"dataframe\">\n",
       "  <thead>\n",
       "    <tr style=\"text-align: right;\">\n",
       "      <th></th>\n",
       "      <th>feature</th>\n",
       "      <th>VIF</th>\n",
       "    </tr>\n",
       "  </thead>\n",
       "  <tbody>\n",
       "    <tr>\n",
       "      <th>0</th>\n",
       "      <td>passenger_count</td>\n",
       "      <td>1.00</td>\n",
       "    </tr>\n",
       "    <tr>\n",
       "      <th>1</th>\n",
       "      <td>distance_travelled</td>\n",
       "      <td>1.00</td>\n",
       "    </tr>\n",
       "    <tr>\n",
       "      <th>2</th>\n",
       "      <td>year</td>\n",
       "      <td>1.01</td>\n",
       "    </tr>\n",
       "    <tr>\n",
       "      <th>3</th>\n",
       "      <td>month</td>\n",
       "      <td>1.01</td>\n",
       "    </tr>\n",
       "    <tr>\n",
       "      <th>4</th>\n",
       "      <td>week_day</td>\n",
       "      <td>1.02</td>\n",
       "    </tr>\n",
       "    <tr>\n",
       "      <th>5</th>\n",
       "      <td>period</td>\n",
       "      <td>1.02</td>\n",
       "    </tr>\n",
       "  </tbody>\n",
       "</table>\n",
       "</div>"
      ],
      "text/plain": [
       "              feature   VIF\n",
       "0     passenger_count  1.00\n",
       "1  distance_travelled  1.00\n",
       "2                year  1.01\n",
       "3               month  1.01\n",
       "4            week_day  1.02\n",
       "5              period  1.02"
      ]
     },
     "execution_count": 113,
     "metadata": {},
     "output_type": "execute_result"
    }
   ],
   "source": [
    "f_passenger_count = 'passenger_count~distance_travelled+year+month+week_day+period'\n",
    "m_passenger_count = ols(formula=f_passenger_count,data=df_uber_rel).fit()\n",
    "rsq_passenger_count = m_passenger_count.rsquared\n",
    "vif_passenger_count = round(1/(1-rsq_passenger_count),2)\n",
    "\n",
    "f_distance_travelled = 'distance_travelled~passenger_count+year+month+week_day+period'\n",
    "m_distance_travelled = ols(formula=f_distance_travelled,data=df_uber_rel).fit()\n",
    "rsq_distance_travelled = m_distance_travelled.rsquared\n",
    "vif_distance_travelled = round(1/(1-rsq_distance_travelled),2)\n",
    "\n",
    "f_year = 'year~passenger_count+distance_travelled+month+week_day+period'\n",
    "m_year = ols(formula=f_year,data=df_uber_rel).fit()\n",
    "rsq_year = m_year.rsquared\n",
    "vif_year = round(1/(1-rsq_year),2)\n",
    "\n",
    "f_month = 'month~passenger_count+distance_travelled+year+week_day+period'\n",
    "m_month = ols(formula=f_month,data=df_uber_rel).fit()\n",
    "rsq_month = m_month.rsquared\n",
    "vif_month = round(1/(1-rsq_month),2)\n",
    "\n",
    "f_week_day = 'week_day~passenger_count+distance_travelled+year+month+period'\n",
    "m_week_day = ols(formula=f_week_day,data=df_uber_rel).fit()\n",
    "rsq_week_day = m_week_day.rsquared\n",
    "vif_week_day = round(1/(1-rsq_week_day),2)\n",
    "\n",
    "f_period = 'period~passenger_count+distance_travelled+year+month+week_day'\n",
    "m_period = ols(formula=f_period,data=df_uber_rel).fit()\n",
    "rsq_period = m_period.rsquared\n",
    "vif_period = round(1/(1-rsq_period),2)\n",
    "\n",
    "vif_dic = {'feature':['passenger_count', 'distance_travelled', 'year', 'month',\n",
    "       'week_day', 'period'], 'VIF':[vif_passenger_count,vif_distance_travelled,vif_year,vif_month,vif_week_day,vif_period]}\n",
    "pd.DataFrame(data=vif_dic)"
   ]
  },
  {
   "cell_type": "markdown",
   "id": "a8f1a152",
   "metadata": {},
   "source": [
    "No Multicollinearity"
   ]
  },
  {
   "cell_type": "markdown",
   "id": "cc32a663",
   "metadata": {},
   "source": [
    "## Multiple Linear Regression"
   ]
  },
  {
   "cell_type": "code",
   "execution_count": 114,
   "id": "86664cd9",
   "metadata": {},
   "outputs": [
    {
     "data": {
      "text/html": [
       "<table class=\"simpletable\">\n",
       "<caption>OLS Regression Results</caption>\n",
       "<tr>\n",
       "  <th>Dep. Variable:</th>       <td>fare_amount</td>   <th>  R-squared:         </th>  <td>   0.654</td> \n",
       "</tr>\n",
       "<tr>\n",
       "  <th>Model:</th>                   <td>OLS</td>       <th>  Adj. R-squared:    </th>  <td>   0.654</td> \n",
       "</tr>\n",
       "<tr>\n",
       "  <th>Method:</th>             <td>Least Squares</td>  <th>  F-statistic:       </th>  <td>6.091e+04</td>\n",
       "</tr>\n",
       "<tr>\n",
       "  <th>Date:</th>             <td>Mon, 11 Sep 2023</td> <th>  Prob (F-statistic):</th>   <td>  0.00</td>  \n",
       "</tr>\n",
       "<tr>\n",
       "  <th>Time:</th>                 <td>14:30:07</td>     <th>  Log-Likelihood:    </th> <td>1.0130e+05</td>\n",
       "</tr>\n",
       "<tr>\n",
       "  <th>No. Observations:</th>      <td>193549</td>      <th>  AIC:               </th> <td>-2.026e+05</td>\n",
       "</tr>\n",
       "<tr>\n",
       "  <th>Df Residuals:</th>          <td>193542</td>      <th>  BIC:               </th> <td>-2.025e+05</td>\n",
       "</tr>\n",
       "<tr>\n",
       "  <th>Df Model:</th>              <td>     6</td>      <th>                     </th>      <td> </td>    \n",
       "</tr>\n",
       "<tr>\n",
       "  <th>Covariance Type:</th>      <td>nonrobust</td>    <th>                     </th>      <td> </td>    \n",
       "</tr>\n",
       "</table>\n",
       "<table class=\"simpletable\">\n",
       "<tr>\n",
       "           <td></td>             <th>coef</th>     <th>std err</th>      <th>t</th>      <th>P>|t|</th>  <th>[0.025</th>    <th>0.975]</th>  \n",
       "</tr>\n",
       "<tr>\n",
       "  <th>Intercept</th>          <td>    0.1499</td> <td>    0.001</td> <td>  129.365</td> <td> 0.000</td> <td>    0.148</td> <td>    0.152</td>\n",
       "</tr>\n",
       "<tr>\n",
       "  <th>passenger_count</th>    <td>    0.0112</td> <td>    0.001</td> <td>    8.924</td> <td> 0.000</td> <td>    0.009</td> <td>    0.014</td>\n",
       "</tr>\n",
       "<tr>\n",
       "  <th>distance_travelled</th> <td>    0.6890</td> <td>    0.001</td> <td>  593.733</td> <td> 0.000</td> <td>    0.687</td> <td>    0.691</td>\n",
       "</tr>\n",
       "<tr>\n",
       "  <th>year</th>               <td>    0.1029</td> <td>    0.001</td> <td>   97.144</td> <td> 0.000</td> <td>    0.101</td> <td>    0.105</td>\n",
       "</tr>\n",
       "<tr>\n",
       "  <th>month</th>              <td>    0.0288</td> <td>    0.001</td> <td>   27.433</td> <td> 0.000</td> <td>    0.027</td> <td>    0.031</td>\n",
       "</tr>\n",
       "<tr>\n",
       "  <th>week_day</th>           <td>   -0.0024</td> <td>    0.001</td> <td>   -2.331</td> <td> 0.020</td> <td>   -0.004</td> <td>   -0.000</td>\n",
       "</tr>\n",
       "<tr>\n",
       "  <th>period</th>             <td>   -0.0121</td> <td>    0.001</td> <td>  -10.775</td> <td> 0.000</td> <td>   -0.014</td> <td>   -0.010</td>\n",
       "</tr>\n",
       "</table>\n",
       "<table class=\"simpletable\">\n",
       "<tr>\n",
       "  <th>Omnibus:</th>       <td>37717.873</td> <th>  Durbin-Watson:     </th>  <td>   1.997</td> \n",
       "</tr>\n",
       "<tr>\n",
       "  <th>Prob(Omnibus):</th>  <td> 0.000</td>   <th>  Jarque-Bera (JB):  </th> <td>106958.068</td>\n",
       "</tr>\n",
       "<tr>\n",
       "  <th>Skew:</th>           <td> 1.035</td>   <th>  Prob(JB):          </th>  <td>    0.00</td> \n",
       "</tr>\n",
       "<tr>\n",
       "  <th>Kurtosis:</th>       <td> 5.996</td>   <th>  Cond. No.          </th>  <td>    7.05</td> \n",
       "</tr>\n",
       "</table><br/><br/>Notes:<br/>[1] Standard Errors assume that the covariance matrix of the errors is correctly specified."
      ],
      "text/plain": [
       "<class 'statsmodels.iolib.summary.Summary'>\n",
       "\"\"\"\n",
       "                            OLS Regression Results                            \n",
       "==============================================================================\n",
       "Dep. Variable:            fare_amount   R-squared:                       0.654\n",
       "Model:                            OLS   Adj. R-squared:                  0.654\n",
       "Method:                 Least Squares   F-statistic:                 6.091e+04\n",
       "Date:                Mon, 11 Sep 2023   Prob (F-statistic):               0.00\n",
       "Time:                        14:30:07   Log-Likelihood:             1.0130e+05\n",
       "No. Observations:              193549   AIC:                        -2.026e+05\n",
       "Df Residuals:                  193542   BIC:                        -2.025e+05\n",
       "Df Model:                           6                                         \n",
       "Covariance Type:            nonrobust                                         \n",
       "======================================================================================\n",
       "                         coef    std err          t      P>|t|      [0.025      0.975]\n",
       "--------------------------------------------------------------------------------------\n",
       "Intercept              0.1499      0.001    129.365      0.000       0.148       0.152\n",
       "passenger_count        0.0112      0.001      8.924      0.000       0.009       0.014\n",
       "distance_travelled     0.6890      0.001    593.733      0.000       0.687       0.691\n",
       "year                   0.1029      0.001     97.144      0.000       0.101       0.105\n",
       "month                  0.0288      0.001     27.433      0.000       0.027       0.031\n",
       "week_day              -0.0024      0.001     -2.331      0.020      -0.004      -0.000\n",
       "period                -0.0121      0.001    -10.775      0.000      -0.014      -0.010\n",
       "==============================================================================\n",
       "Omnibus:                    37717.873   Durbin-Watson:                   1.997\n",
       "Prob(Omnibus):                  0.000   Jarque-Bera (JB):           106958.068\n",
       "Skew:                           1.035   Prob(JB):                         0.00\n",
       "Kurtosis:                       5.996   Cond. No.                         7.05\n",
       "==============================================================================\n",
       "\n",
       "Notes:\n",
       "[1] Standard Errors assume that the covariance matrix of the errors is correctly specified.\n",
       "\"\"\""
      ]
     },
     "execution_count": 114,
     "metadata": {},
     "output_type": "execute_result"
    }
   ],
   "source": [
    "formula1 = 'fare_amount ~ passenger_count+distance_travelled+year+month+week_day+period'\n",
    "model1 = ols(formula=formula1,data=df_uber_scaled).fit()\n",
    "model1.summary()"
   ]
  },
  {
   "cell_type": "markdown",
   "id": "ba22ac91",
   "metadata": {},
   "source": [
    "## Train-Test Split"
   ]
  },
  {
   "cell_type": "code",
   "execution_count": 115,
   "id": "4ff69e57",
   "metadata": {},
   "outputs": [],
   "source": [
    "X = df_uber_scaled.drop(['Quarter'],axis=1)\n",
    "y = df_uber_scaled['fare_amount']"
   ]
  },
  {
   "cell_type": "code",
   "execution_count": 116,
   "id": "16a6f3fa",
   "metadata": {},
   "outputs": [],
   "source": [
    "X_train, X_test, y_train, y_test = train_test_split(X,y,test_size=0.30,random_state=1) "
   ]
  },
  {
   "cell_type": "code",
   "execution_count": 117,
   "id": "12bfe03a",
   "metadata": {},
   "outputs": [
    {
     "data": {
      "text/plain": [
       "(135484, 7)"
      ]
     },
     "execution_count": 117,
     "metadata": {},
     "output_type": "execute_result"
    }
   ],
   "source": [
    "X_train.shape"
   ]
  },
  {
   "cell_type": "code",
   "execution_count": 118,
   "id": "f7f5110a",
   "metadata": {},
   "outputs": [
    {
     "data": {
      "text/plain": [
       "(58065, 7)"
      ]
     },
     "execution_count": 118,
     "metadata": {},
     "output_type": "execute_result"
    }
   ],
   "source": [
    "X_test.shape"
   ]
  },
  {
   "cell_type": "markdown",
   "id": "3d326293",
   "metadata": {},
   "source": [
    "### Checking Performance of Final Model"
   ]
  },
  {
   "cell_type": "code",
   "execution_count": 119,
   "id": "e23b9b64",
   "metadata": {},
   "outputs": [],
   "source": [
    "LR_model_train_pred = model1.predict(X_train)\n",
    "LR_model_test_pred = model1.predict(X_test)\n",
    "LR_model_train_RMSE =  np.round(np.sqrt(mean_squared_error(y_train,LR_model_train_pred)),4)\n",
    "LR_model_test_RMSE = np.round(np.sqrt(mean_squared_error(y_test,LR_model_test_pred)),4)\n",
    "LR_model_train_MAPE = (sum(np.abs(y_train-LR_model_train_pred)/y_train)/X_train.shape[0])*100\n",
    "LR_model_test_MAPE = (sum(np.abs(y_test-LR_model_test_pred)/y_test)/X_test.shape[0])*100"
   ]
  },
  {
   "cell_type": "code",
   "execution_count": 120,
   "id": "fa86959f",
   "metadata": {},
   "outputs": [],
   "source": [
    "LR_residual = model1.resid"
   ]
  },
  {
   "cell_type": "code",
   "execution_count": 121,
   "id": "4dfea61b",
   "metadata": {},
   "outputs": [],
   "source": [
    "LR_predict = model1.predict(X)"
   ]
  },
  {
   "cell_type": "code",
   "execution_count": 122,
   "id": "7b9a7adf",
   "metadata": {},
   "outputs": [
    {
     "data": {
      "text/plain": [
       "<matplotlib.lines.Line2D at 0x7fe73efaa910>"
      ]
     },
     "execution_count": 122,
     "metadata": {},
     "output_type": "execute_result"
    },
    {
     "data": {
      "image/png": "[encoded data removed]",
      "text/plain": [
       "<Figure size 432x288 with 1 Axes>"
      ]
     },
     "metadata": {
      "needs_background": "light"
     },
     "output_type": "display_data"
    }
   ],
   "source": [
    "sns.scatterplot(x=LR_predict, y=LR_residual)\n",
    "plt.axhline(y=0)"
   ]
  },
  {
   "cell_type": "code",
   "execution_count": 123,
   "id": "f606ef9c",
   "metadata": {},
   "outputs": [
    {
     "data": {
      "text/plain": [
       "<AxesSubplot:ylabel='Density'>"
      ]
     },
     "execution_count": 123,
     "metadata": {},
     "output_type": "execute_result"
    },
    {
     "data": {
      "image/png": "[encoded data removed]",
      "text/plain": [
       "<Figure size 432x288 with 1 Axes>"
      ]
     },
     "metadata": {
      "needs_background": "light"
     },
     "output_type": "display_data"
    }
   ],
   "source": [
    "sns.distplot(LR_residual)"
   ]
  },
  {
   "cell_type": "code",
   "execution_count": 124,
   "id": "3ce10863",
   "metadata": {},
   "outputs": [
    {
     "data": {
      "text/plain": [
       "<AxesSubplot:>"
      ]
     },
     "execution_count": 124,
     "metadata": {},
     "output_type": "execute_result"
    },
    {
     "data": {
      "image/png": "[encoded data removed]",
      "text/plain": [
       "<Figure size 432x288 with 1 Axes>"
      ]
     },
     "metadata": {
      "needs_background": "light"
     },
     "output_type": "display_data"
    }
   ],
   "source": [
    "sns.boxplot(LR_residual)"
   ]
  },
  {
   "cell_type": "markdown",
   "id": "4776076c",
   "metadata": {},
   "source": [
    "## Random Forest Regressor"
   ]
  },
  {
   "cell_type": "code",
   "execution_count": 125,
   "id": "bfb8c89b",
   "metadata": {},
   "outputs": [],
   "source": [
    "RF_Base = RandomForestRegressor(random_state=1)"
   ]
  },
  {
   "cell_type": "code",
   "execution_count": 126,
   "id": "69470f84",
   "metadata": {},
   "outputs": [
    {
     "data": {
      "text/plain": [
       "RandomForestRegressor(random_state=1)"
      ]
     },
     "execution_count": 126,
     "metadata": {},
     "output_type": "execute_result"
    }
   ],
   "source": [
    "RF_Base.fit(X_train,y_train)"
   ]
  },
  {
   "cell_type": "code",
   "execution_count": 127,
   "id": "b1d7d47d",
   "metadata": {},
   "outputs": [],
   "source": [
    "RF_Base_train_predict = RF_Base.predict(X_train)\n",
    "RF_Base_test_predict = RF_Base.predict(X_test)"
   ]
  },
  {
   "cell_type": "code",
   "execution_count": 128,
   "id": "03d7a813",
   "metadata": {},
   "outputs": [
    {
     "data": {
      "text/plain": [
       "0.9999999954098738"
      ]
     },
     "execution_count": 128,
     "metadata": {},
     "output_type": "execute_result"
    }
   ],
   "source": [
    "RF_Base_R_square_train = RF_Base.score(X_train,y_train)\n",
    "RF_Base_R_square_train"
   ]
  },
  {
   "cell_type": "code",
   "execution_count": 129,
   "id": "f30ab7ee",
   "metadata": {},
   "outputs": [
    {
     "data": {
      "text/plain": [
       "0.9999963297362983"
      ]
     },
     "execution_count": 129,
     "metadata": {},
     "output_type": "execute_result"
    }
   ],
   "source": [
    "RF_Base_R_square_test = RF_Base.score(X_test,y_test)\n",
    "RF_Base_R_square_test"
   ]
  },
  {
   "cell_type": "code",
   "execution_count": 131,
   "id": "24cca8dd",
   "metadata": {},
   "outputs": [
    {
     "data": {
      "text/plain": [
       "0.9999999954096367"
      ]
     },
     "execution_count": 131,
     "metadata": {},
     "output_type": "execute_result"
    }
   ],
   "source": [
    "RF_Base_Adj_R_square_train = 1 - ((1 - RF_Base_R_square_train) * (len(X_train) - 1) / (len(X_train) - \n",
    "                                                                                       X_train.shape[1]  - 1))\n",
    "RF_Base_Adj_R_square_train"
   ]
  },
  {
   "cell_type": "code",
   "execution_count": 132,
   "id": "b78850b0",
   "metadata": {},
   "outputs": [
    {
     "data": {
      "text/plain": [
       "0.9999963292937702"
      ]
     },
     "execution_count": 132,
     "metadata": {},
     "output_type": "execute_result"
    }
   ],
   "source": [
    "RF_Base_Adj_R_square_test = 1 - ((1 - RF_Base_R_square_test) * (len(X_test) - 1) / (len(X_test) - X_test.shape[1]  - 1))\n",
    "RF_Base_Adj_R_square_test"
   ]
  },
  {
   "cell_type": "code",
   "execution_count": 133,
   "id": "fd1c03ec",
   "metadata": {},
   "outputs": [],
   "source": [
    "RF_Base_model_train_RMSE =  np.round(np.sqrt(mean_squared_error(y_train,RF_Base_train_predict)),4)\n",
    "RF_Base_model_test_RMSE = np.round(np.sqrt(mean_squared_error(y_test,RF_Base_test_predict)),4)\n",
    "RF_Base_model_train_MAPE = (sum(np.abs(y_train-RF_Base_train_predict)/y_train)/X_train.shape[0])*100\n",
    "RF_Base_model_test_MAPE = (sum(np.abs(y_test-RF_Base_test_predict)/y_test)/X_test.shape[0])*100"
   ]
  },
  {
   "cell_type": "code",
   "execution_count": 134,
   "id": "ba77b610",
   "metadata": {},
   "outputs": [
    {
     "name": "stdout",
     "output_type": "stream",
     "text": [
      "Train RMSE 0.0\n",
      "Test RMSE 0.0005\n",
      "Train MAPE 7.297371880461737e-05\n",
      "Test MAPE inf\n"
     ]
    }
   ],
   "source": [
    "print(\"Train RMSE\",RF_Base_model_train_RMSE)\n",
    "print(\"Test RMSE\",RF_Base_model_test_RMSE)\n",
    "print(\"Train MAPE\",RF_Base_model_train_MAPE)\n",
    "print(\"Test MAPE\",RF_Base_model_test_MAPE)"
   ]
  },
  {
   "cell_type": "code",
   "execution_count": 135,
   "id": "58dc0474",
   "metadata": {},
   "outputs": [
    {
     "data": {
      "text/plain": [
       "array([0.40422662, 0.79541367, 0.16591727, ..., 0.25584532, 1.        ,\n",
       "       0.18390288])"
      ]
     },
     "execution_count": 135,
     "metadata": {},
     "output_type": "execute_result"
    }
   ],
   "source": [
    "RF_Base_train_predict"
   ]
  },
  {
   "cell_type": "code",
   "execution_count": 136,
   "id": "e7175d12",
   "metadata": {},
   "outputs": [
    {
     "data": {
      "text/html": [
       "<div>\n",
       "<style scoped>\n",
       "    .dataframe tbody tr th:only-of-type {\n",
       "        vertical-align: middle;\n",
       "    }\n",
       "\n",
       "    .dataframe tbody tr th {\n",
       "        vertical-align: top;\n",
       "    }\n",
       "\n",
       "    .dataframe thead th {\n",
       "        text-align: right;\n",
       "    }\n",
       "</style>\n",
       "<table border=\"1\" class=\"dataframe\">\n",
       "  <thead>\n",
       "    <tr style=\"text-align: right;\">\n",
       "      <th></th>\n",
       "      <th>Feature Importance</th>\n",
       "    </tr>\n",
       "  </thead>\n",
       "  <tbody>\n",
       "    <tr>\n",
       "      <th>passenger_count</th>\n",
       "      <td>9.999997e-01</td>\n",
       "    </tr>\n",
       "    <tr>\n",
       "      <th>month</th>\n",
       "      <td>2.526846e-07</td>\n",
       "    </tr>\n",
       "    <tr>\n",
       "      <th>Quarter</th>\n",
       "      <td>3.342099e-08</td>\n",
       "    </tr>\n",
       "    <tr>\n",
       "      <th>week_day</th>\n",
       "      <td>3.003126e-09</td>\n",
       "    </tr>\n",
       "    <tr>\n",
       "      <th>year</th>\n",
       "      <td>2.863717e-09</td>\n",
       "    </tr>\n",
       "    <tr>\n",
       "      <th>period</th>\n",
       "      <td>1.966821e-09</td>\n",
       "    </tr>\n",
       "    <tr>\n",
       "      <th>distance_travelled</th>\n",
       "      <td>8.106005e-10</td>\n",
       "    </tr>\n",
       "  </tbody>\n",
       "</table>\n",
       "</div>"
      ],
      "text/plain": [
       "                    Feature Importance\n",
       "passenger_count           9.999997e-01\n",
       "month                     2.526846e-07\n",
       "Quarter                   3.342099e-08\n",
       "week_day                  3.003126e-09\n",
       "year                      2.863717e-09\n",
       "period                    1.966821e-09\n",
       "distance_travelled        8.106005e-10"
      ]
     },
     "execution_count": 136,
     "metadata": {},
     "output_type": "execute_result"
    }
   ],
   "source": [
    "pd.DataFrame(RF_Base.feature_importances_,index=df_uber_scaled.columns.drop('fare_amount')\n",
    "             ,columns=['Feature Importance']).sort_values(ascending=False,by = ['Feature Importance'])"
   ]
  }
 ],
 "metadata": {
  "kernelspec": {
   "display_name": "Python 3 (ipykernel)",
   "language": "python",
   "name": "python3"
  },
  "language_info": {
   "codemirror_mode": {
    "name": "ipython",
    "version": 3
   },
   "file_extension": ".py",
   "mimetype": "text/x-python",
   "name": "python",
   "nbconvert_exporter": "python",
   "pygments_lexer": "ipython3",
   "version": "3.9.7"
  }
 },
 "nbformat": 4,
 "nbformat_minor": 5
}
