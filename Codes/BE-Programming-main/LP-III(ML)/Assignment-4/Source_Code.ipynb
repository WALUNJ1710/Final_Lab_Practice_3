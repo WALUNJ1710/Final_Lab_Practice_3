{
 "cells": [
  {
   "cell_type": "code",
   "execution_count": 4,
   "id": "c1144ee1",
   "metadata": {},
   "outputs": [
    {
     "name": "stdout",
     "output_type": "stream",
     "text": [
      "Local minimum at x = -3, y = 0\n"
     ]
    }
   ],
   "source": [
    "# Define the function\n",
    "def function_to_optimize(x):\n",
    "    return (x + 3)**2\n",
    "\n",
    "# Define the derivative (gradient) of the function\n",
    "def gradient(x):\n",
    "    return 2 * (x + 3)\n",
    "\n",
    "# Hyperparameters\n",
    "learning_rate = 0.1\n",
    "iterations = 1000\n",
    "x = 2  # Starting point\n",
    "\n",
    "# Gradient Descent algorithm\n",
    "for i in range(iterations):\n",
    "    gradient_value = gradient(x)\n",
    "    x = x - learning_rate * gradient_value  # Update x\n",
    "\n",
    "# Print the result\n",
    "minima = function_to_optimize(x)\n",
    "print(f\"Local minimum at x = {round(x)}, y = {round(minima)}\")"
   ]
  }
 ],
 "metadata": {
  "kernelspec": {
   "display_name": "Python 3 (ipykernel)",
   "language": "python",
   "name": "python3"
  },
  "language_info": {
   "codemirror_mode": {
    "name": "ipython",
    "version": 3
   },
   "file_extension": ".py",
   "mimetype": "text/x-python",
   "name": "python",
   "nbconvert_exporter": "python",
   "pygments_lexer": "ipython3",
   "version": "3.10.9"
  }
 },
 "nbformat": 4,
 "nbformat_minor": 5
}
