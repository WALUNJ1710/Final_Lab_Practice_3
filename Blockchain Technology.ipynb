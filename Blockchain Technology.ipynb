{
 "cells": [
  {
   "cell_type": "markdown",
   "id": "2c4a226e",
   "metadata": {},
   "source": [
    "## Code for Assignment 03 Smart Contract\n"
   ]
  },
  {
   "cell_type": "markdown",
   "id": "e28889db",
   "metadata": {},
   "source": [
    "// SPDX-License-Identifier: MIT\n",
    "pragma solidity >=0.7.0;\n",
    "\n",
    "contract Bank {\n",
    "    struct Account {\n",
    "        uint balance;\n",
    "    }\n",
    "\n",
    "    mapping(address => mapping(uint => Account)) public user_accounts;\n",
    "    mapping(address => uint) public numAccounts;\n",
    "\n",
    "    function createAccount(uint accountId) public {\n",
    "        require(accountId > 0, \"Account ID should be greater than 0\");\n",
    "        require(user_accounts[msg.sender][accountId].balance == 0, \"Account already created with this ID\");\n",
    "\n",
    "        user_accounts[msg.sender][accountId] = Account({\n",
    "            balance: 0\n",
    "        });\n",
    "        numAccounts[msg.sender]++;\n",
    "    }\n",
    "\n",
    "    function deposit(uint accountId, uint amount) public {\n",
    "        require(accountId > 0, \"Account ID should be greater than 0\");\n",
    "        require(user_accounts[msg.sender][accountId].balance >= 0, \"Account not created with this ID\");\n",
    "\n",
    "        user_accounts[msg.sender][accountId].balance += amount;\n",
    "    }\n",
    "\n",
    "    function withdraw(uint accountId, uint amount) public {\n",
    "        require(accountId > 0, \"Account ID should be greater than 0\");\n",
    "        require(user_accounts[msg.sender][accountId].balance >= amount, \"Insufficient balance in the account\");\n",
    "\n",
    "        user_accounts[msg.sender][accountId].balance -= amount;\n",
    "    }\n",
    "\n",
    "    function getBalance(uint accountId) public view returns (uint) {\n",
    "        require(accountId > 0, \"Account ID should be greater than 0\");\n",
    "        require(user_accounts[msg.sender][accountId].balance >= 0, \"Account not created with this ID\");\n",
    "\n",
    "        return user_accounts[msg.sender][accountId].balance;\n",
    "    }\n",
    "\n",
    "    function transfer(uint fromAccountId, uint toAccountId, uint amount) public {\n",
    "        require(fromAccountId > 0 && toAccountId > 0, \"Account ID should be greater than 0\");\n",
    "        require(user_accounts[msg.sender][fromAccountId].balance >= amount, \"Insufficient balance in the source account\");\n",
    "\n",
    "        user_accounts[msg.sender][fromAccountId].balance -= amount;\n",
    "        user_accounts[msg.sender][toAccountId].balance += amount;\n",
    "    }\n",
    "}"
   ]
  },
  {
   "cell_type": "markdown",
   "id": "8712f79a",
   "metadata": {},
   "source": [
    "# Code For Assignment 4 Fallback Function"
   ]
  },
  {
   "cell_type": "markdown",
   "id": "247e3076",
   "metadata": {},
   "source": [
    "// SPDX-License-Identifier: MIT\n",
    "pragma solidity ^0.8.0;\n",
    "\n",
    "contract StudentData {\n",
    "    struct Student {\n",
    "        string name;\n",
    "        uint256 rollNumber;\n",
    "        uint256 age;\n",
    "    }\n",
    "\n",
    "    Student[] public students;\n",
    "    address public owner;\n",
    "\n",
    "    constructor() {\n",
    "        owner = msg.sender;\n",
    "    }\n",
    "\n",
    "    modifier onlyOwner() {\n",
    "        require(msg.sender == owner, \"Only the owner can perform this operation\");\n",
    "        _;\n",
    "    }\n",
    "\n",
    "    function addStudent(string memory _name, uint256 _rollNumber, uint256 _age) public onlyOwner {\n",
    "        Student memory newStudent = Student(_name, _rollNumber, _age);\n",
    "        students.push(newStudent);\n",
    "    }\n",
    "\n",
    "    function getStudentCount() public view returns (uint256) {\n",
    "        return students.length;\n",
    "    }\n",
    "\n",
    "    function getStudent(uint256 index) public view returns (string memory, uint256, uint256) {\n",
    "        require(index < students.length, \"Invalid index\");\n",
    "        Student memory student = students[index];\n",
    "        return (student.name, student.rollNumber, student.age);\n",
    "    }\n",
    "\n",
    "    fallback() external {\n",
    "        revert(\"Fallback function: This contract does not accept Ether.\");\n",
    "    }\n",
    "}"
   ]
  },
  {
   "cell_type": "code",
   "execution_count": null,
   "id": "54e0ae7c",
   "metadata": {},
   "outputs": [],
   "source": []
  }
 ],
 "metadata": {
  "kernelspec": {
   "display_name": "Python 3 (ipykernel)",
   "language": "python",
   "name": "python3"
  },
  "language_info": {
   "codemirror_mode": {
    "name": "ipython",
    "version": 3
   },
   "file_extension": ".py",
   "mimetype": "text/x-python",
   "name": "python",
   "nbconvert_exporter": "python",
   "pygments_lexer": "ipython3",
   "version": "3.11.5"
  }
 },
 "nbformat": 4,
 "nbformat_minor": 5
}
